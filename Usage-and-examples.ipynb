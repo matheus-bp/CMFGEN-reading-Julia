{
 "cells": [
  {
   "cell_type": "code",
   "execution_count": 1,
   "id": "2e43ecc3",
   "metadata": {},
   "outputs": [],
   "source": [
    "# using Pkg\n",
    "# Pkg.add([\"Makie\",\"CairoMakie\",\"GLMakie\"])"
   ]
  },
  {
   "cell_type": "code",
   "execution_count": 2,
   "id": "8b266e94",
   "metadata": {},
   "outputs": [
    {
     "data": {
      "text/plain": [
       "CairoMakie"
      ]
     },
     "metadata": {},
     "output_type": "display_data"
    }
   ],
   "source": [
    "using DataFrames\n",
    "import CairoMakie\n",
    "mak = CairoMakie"
   ]
  },
  {
   "cell_type": "code",
   "execution_count": 3,
   "id": "1e120e23",
   "metadata": {},
   "outputs": [
    {
     "data": {
      "text/plain": [
       "1.9268984e23"
      ]
     },
     "metadata": {},
     "output_type": "display_data"
    }
   ],
   "source": [
    "include(\"physical_constants.jl\")"
   ]
  },
  {
   "cell_type": "code",
   "execution_count": 4,
   "id": "023aac77",
   "metadata": {},
   "outputs": [
    {
     "data": {
      "text/plain": [
       "\"/home/math/Projects/CMFGEN-reading-Julia/Test/Data/Test-model\""
      ]
     },
     "metadata": {},
     "output_type": "display_data"
    }
   ],
   "source": [
    "modeldir = \"/home/math/Projects/CMFGEN-reading-Julia/Test/Data/Test-model\""
   ]
  },
  {
   "cell_type": "markdown",
   "id": "16e1baad",
   "metadata": {},
   "source": [
    "### Reading Spectrum and Continuum"
   ]
  },
  {
   "cell_type": "markdown",
   "id": "05149df0",
   "metadata": {},
   "source": [
    "include(\"read__obs_fin.jl\")\n",
    "include(\"read__obs_cont.jl\")"
   ]
  },
  {
   "cell_type": "markdown",
   "id": "aab71ed1",
   "metadata": {},
   "source": [
    "spec_cali = read__obs_fin(modeldir * \"/obs/obs_fin\")\n",
    "spec_cont = read__obs_cont(modeldir * \"/obs/obs_cont\")"
   ]
  },
  {
   "cell_type": "markdown",
   "id": "1e29a178",
   "metadata": {},
   "source": [
    "spec_cali.wave = c_Ans ./ (spec_cali.freq .* 1e15)\n",
    "spec_cont.wave = c_Ans ./ (spec_cont.freq .* 1e15)\n",
    "spec_cali.flux = spec_cali.fflx .* spec_cali.freq .* 1e15 ./ (c_Ans ./ spec_cali.freq .* 1e15)\n",
    "spec_cont.flux = spec_cont.fflx .* spec_cont.freq .* 1e15 ./ (c_Ans ./ spec_cont.freq .* 1e15)\n",
    "\n",
    "\n",
    "spec_cali"
   ]
  },
  {
   "cell_type": "markdown",
   "id": "6a54d522",
   "metadata": {},
   "source": [
    "fig = mak.Figure()\n",
    "ax = mak.Axis(fig[1,1],\n",
    "    # limits=(2.5,5,-5,3)\n",
    "    )   \n",
    "\n",
    "mak.lines!(ax, log10.(spec_cali.wave), log10.(spec_cali.flux))\n",
    "mak.lines!(ax, log10.(spec_cont.wave), log10.(spec_cont.flux))\n",
    "\n",
    "fig"
   ]
  },
  {
   "cell_type": "markdown",
   "id": "13d9a20d",
   "metadata": {},
   "source": [
    "### Reading MODEL file"
   ]
  },
  {
   "cell_type": "code",
   "execution_count": 5,
   "id": "8b610a96",
   "metadata": {},
   "outputs": [
    {
     "data": {
      "text/html": [
       "<div><div style = \"float: left;\"><span>277×3 DataFrame</span></div><div style = \"float: right;\"><span style = \"font-style: italic;\">252 rows omitted</span></div><div style = \"clear: both;\"></div></div><div class = \"data-frame\" style = \"overflow-x: scroll;\"><table class = \"data-frame\" style = \"margin-bottom: 6px;\"><thead><tr class = \"header\"><th class = \"rowNumber\" style = \"font-weight: bold; text-align: right;\">Row</th><th style = \"text-align: left;\">parameter</th><th style = \"text-align: left;\">value</th><th style = \"text-align: left;\">description</th></tr><tr class = \"subheader headerLastRow\"><th class = \"rowNumber\" style = \"font-weight: bold; text-align: right;\"></th><th title = \"String\" style = \"text-align: left;\">String</th><th title = \"Any\" style = \"text-align: left;\">Any</th><th title = \"String\" style = \"text-align: left;\">String</th></tr></thead><tbody><tr><td class = \"rowNumber\" style = \"font-weight: bold; text-align: right;\">1</td><td style = \"text-align: left;\">NUM_ITS</td><td style = \"text-align: left;\">150.0</td><td style = \"text-align: left;\">Number of iterations to perform</td></tr><tr><td class = \"rowNumber\" style = \"font-weight: bold; text-align: right;\">2</td><td style = \"text-align: left;\">DO_LAM_IT</td><td style = \"text-align: left;\">T</td><td style = \"text-align: left;\">Do LAMBDA iterations ?</td></tr><tr><td class = \"rowNumber\" style = \"font-weight: bold; text-align: right;\">3</td><td style = \"text-align: left;\">DO_GT_AUTO</td><td style = \"text-align: left;\">T</td><td style = \"text-align: left;\">Do a grey temperature iteration after revising USE_FIXED_J?</td></tr><tr><td class = \"rowNumber\" style = \"font-weight: bold; text-align: right;\">4</td><td style = \"text-align: left;\">DO_T_AUTO</td><td style = \"text-align: left;\">F</td><td style = \"text-align: left;\">Allow temperature to vary when sufficent convergence has been obtained?</td></tr><tr><td class = \"rowNumber\" style = \"font-weight: bold; text-align: right;\">5</td><td style = \"text-align: left;\">RSTAR</td><td style = \"text-align: left;\">285.082</td><td style = \"text-align: left;\">Stellar radius (in 10^10 cm)</td></tr><tr><td class = \"rowNumber\" style = \"font-weight: bold; text-align: right;\">6</td><td style = \"text-align: left;\">RMAX</td><td style = \"text-align: left;\">445.925</td><td style = \"text-align: left;\">Maximum radius (in R*)</td></tr><tr><td class = \"rowNumber\" style = \"font-weight: bold; text-align: right;\">7</td><td style = \"text-align: left;\">DO_HYDRO</td><td style = \"text-align: left;\">T</td><td style = \"text-align: left;\">Adjust hydrostatic structure</td></tr><tr><td class = \"rowNumber\" style = \"font-weight: bold; text-align: right;\">8</td><td style = \"text-align: left;\">VEL_LAW</td><td style = \"text-align: left;\">7.0</td><td style = \"text-align: left;\">Velocity Law to be used</td></tr><tr><td class = \"rowNumber\" style = \"font-weight: bold; text-align: right;\">9</td><td style = \"text-align: left;\">VEL_OPT</td><td style = \"text-align: left;\">RVSIG_COL</td><td style = \"text-align: left;\">Velocity option: RVSIG_COL or deKOTER</td></tr><tr><td class = \"rowNumber\" style = \"font-weight: bold; text-align: right;\">10</td><td style = \"text-align: left;\">VINF</td><td style = \"text-align: left;\">260.0</td><td style = \"text-align: left;\">Terminal velocity (km/s)</td></tr><tr><td class = \"rowNumber\" style = \"font-weight: bold; text-align: right;\">11</td><td style = \"text-align: left;\">MDOT</td><td style = \"text-align: left;\">1.0e-8</td><td style = \"text-align: left;\">Mass Loss rate (Msun/yr)</td></tr><tr><td class = \"rowNumber\" style = \"font-weight: bold; text-align: right;\">12</td><td style = \"text-align: left;\">LSTAR</td><td style = \"text-align: left;\">52978.2</td><td style = \"text-align: left;\">Stellar luminosity (Lsun)</td></tr><tr><td class = \"rowNumber\" style = \"font-weight: bold; text-align: right;\">13</td><td style = \"text-align: left;\">TEFF</td><td style = \"text-align: left;\">1.35</td><td style = \"text-align: left;\">Effective temperature (10^4 K)</td></tr><tr><td style = \"text-align: right;\">&vellip;</td><td style = \"text-align: right;\">&vellip;</td><td style = \"text-align: right;\">&vellip;</td><td style = \"text-align: right;\">&vellip;</td></tr><tr><td class = \"rowNumber\" style = \"font-weight: bold; text-align: right;\">266</td><td style = \"text-align: left;\">ST_INT</td><td style = \"text-align: left;\">1.0</td><td style = \"text-align: left;\">Interpolate from ?</td></tr><tr><td class = \"rowNumber\" style = \"font-weight: bold; text-align: right;\">267</td><td style = \"text-align: left;\">END_INT</td><td style = \"text-align: left;\">30.0</td><td style = \"text-align: left;\">Interpolate to ?</td></tr><tr><td class = \"rowNumber\" style = \"font-weight: bold; text-align: right;\">268</td><td style = \"text-align: left;\">ND_QUAD</td><td style = \"text-align: left;\">50.0</td><td style = \"text-align: left;\">Quadratic interpolation from ND-? to ND</td></tr><tr><td class = \"rowNumber\" style = \"font-weight: bold; text-align: right;\">269</td><td style = \"text-align: left;\">INTERP_TYPE</td><td style = \"text-align: left;\">LOG</td><td style = \"text-align: left;\">Perform interpolations in LOG or LIN plane</td></tr><tr><td class = \"rowNumber\" style = \"font-weight: bold; text-align: right;\">270</td><td style = \"text-align: left;\">N_PAR</td><td style = \"text-align: left;\">2000.0</td><td style = \"text-align: left;\">Rate of BA incrementation by BA_PAR in cont. loop (# of freq)</td></tr><tr><td class = \"rowNumber\" style = \"font-weight: bold; text-align: right;\">271</td><td style = \"text-align: left;\">COMP_F</td><td style = \"text-align: left;\">F</td><td style = \"text-align: left;\">Compute new Eddington factors (f)</td></tr><tr><td class = \"rowNumber\" style = \"font-weight: bold; text-align: right;\">272</td><td style = \"text-align: left;\">ACC_F</td><td style = \"text-align: left;\">0.0001</td><td style = \"text-align: left;\">Accuracy with which to compute the eddington factor f</td></tr><tr><td class = \"rowNumber\" style = \"font-weight: bold; text-align: right;\">273</td><td style = \"text-align: left;\">DO_NG</td><td style = \"text-align: left;\">T</td><td style = \"text-align: left;\">Perform NG acceleration when applicable ?</td></tr><tr><td class = \"rowNumber\" style = \"font-weight: bold; text-align: right;\">274</td><td style = \"text-align: left;\">BEG_NG</td><td style = \"text-align: left;\">10.0</td><td style = \"text-align: left;\">Percentage accuracy at which to begin NG acceleration</td></tr><tr><td class = \"rowNumber\" style = \"font-weight: bold; text-align: right;\">275</td><td style = \"text-align: left;\">IBEG_NG</td><td style = \"text-align: left;\">25.0</td><td style = \"text-align: left;\">Iteration at which to begin NG acceleration</td></tr><tr><td class = \"rowNumber\" style = \"font-weight: bold; text-align: right;\">276</td><td style = \"text-align: left;\">BW_NG</td><td style = \"text-align: left;\">10.0</td><td style = \"text-align: left;\">Depth band width for NG acceleration</td></tr><tr><td class = \"rowNumber\" style = \"font-weight: bold; text-align: right;\">277</td><td style = \"text-align: left;\">ITS/NG</td><td style = \"text-align: left;\">20.0</td><td style = \"text-align: left;\">Number of iterations between NG accelerations (&gt;=4)</td></tr></tbody></table></div>"
      ],
      "text/latex": [
       "\\begin{tabular}{r|ccc}\n",
       "\t& parameter & value & description\\\\\n",
       "\t\\hline\n",
       "\t& String & Any & String\\\\\n",
       "\t\\hline\n",
       "\t1 & NUM\\_ITS & 150.0 & Number of iterations to perform \\\\\n",
       "\t2 & DO\\_LAM\\_IT & T & Do LAMBDA iterations ? \\\\\n",
       "\t3 & DO\\_GT\\_AUTO & T & Do a grey temperature iteration after revising USE\\_FIXED\\_J? \\\\\n",
       "\t4 & DO\\_T\\_AUTO & F & Allow temperature to vary when sufficent convergence has been obtained? \\\\\n",
       "\t5 & RSTAR & 285.082 & Stellar radius (in 10\\^10 cm) \\\\\n",
       "\t6 & RMAX & 445.925 & Maximum radius (in R*) \\\\\n",
       "\t7 & DO\\_HYDRO & T & Adjust hydrostatic structure \\\\\n",
       "\t8 & VEL\\_LAW & 7.0 & Velocity Law to be used \\\\\n",
       "\t9 & VEL\\_OPT & RVSIG\\_COL & Velocity option: RVSIG\\_COL or deKOTER \\\\\n",
       "\t10 & VINF & 260.0 & Terminal velocity (km/s) \\\\\n",
       "\t11 & MDOT & 1.0e-8 & Mass Loss rate (Msun/yr) \\\\\n",
       "\t12 & LSTAR & 52978.2 & Stellar luminosity (Lsun) \\\\\n",
       "\t13 & TEFF & 1.35 & Effective temperature (10\\^4 K) \\\\\n",
       "\t14 & LOGG & 2.25 & Log surface gravity (cgs units) \\\\\n",
       "\t15 & BETA & 2.0 & Beta exponent for velocity law \\\\\n",
       "\t16 & MASS & 11.475 & Stellar mass (Msun) \\\\\n",
       "\t17 & DO\\_CL & T & Calculate a model with clumping? \\\\\n",
       "\t18 & CL\\_LAW & EXPO & Which clumping law is being utilized? \\\\\n",
       "\t19 & N\\_CL\\_PAR & 2.0 & Number of clumping parameters \\\\\n",
       "\t20 & CL\\_PAR\\_1 & 1.0 & Clumping parameters: \\\\\n",
       "\t21 & CL\\_PAR\\_2 & 30.0 & Clumping parameters: \\\\\n",
       "\t22 & HYD/X & -0.732 & HYD/X fractional abundance by number (un-normalized) \\\\\n",
       "\t23 & HE/X & -0.263 & HE/X fractional abundance by number (un-normalized) \\\\\n",
       "\t24 & CARB/X & -0.000365 & CARB/X fractional abundance by number (un-normalized) \\\\\n",
       "\t$\\dots$ & $\\dots$ & $\\dots$ & $\\dots$ \\\\\n",
       "\\end{tabular}\n"
      ],
      "text/plain": [
       "\u001b[1m277×3 DataFrame\u001b[0m\n",
       "\u001b[1m Row \u001b[0m│\u001b[1m parameter   \u001b[0m\u001b[1m value     \u001b[0m\u001b[1m description                       \u001b[0m\n",
       "     │\u001b[90m String      \u001b[0m\u001b[90m Any       \u001b[0m\u001b[90m String                            \u001b[0m\n",
       "─────┼───────────────────────────────────────────────────────────\n",
       "   1 │ NUM_ITS      150.0      Number of iterations to perform\n",
       "   2 │ DO_LAM_IT    T          Do LAMBDA iterations ?\n",
       "   3 │ DO_GT_AUTO   T          Do a grey temperature iteration …\n",
       "   4 │ DO_T_AUTO    F          Allow temperature to vary when s…\n",
       "   5 │ RSTAR        285.082    Stellar radius (in 10^10 cm)\n",
       "   6 │ RMAX         445.925    Maximum radius (in R*)\n",
       "   7 │ DO_HYDRO     T          Adjust hydrostatic structure\n",
       "   8 │ VEL_LAW      7.0        Velocity Law to be used\n",
       "  ⋮  │      ⋮           ⋮                      ⋮\n",
       " 271 │ COMP_F       F          Compute new Eddington factors (f)\n",
       " 272 │ ACC_F        0.0001     Accuracy with which to compute t…\n",
       " 273 │ DO_NG        T          Perform NG acceleration when app…\n",
       " 274 │ BEG_NG       10.0       Percentage accuracy at which to …\n",
       " 275 │ IBEG_NG      25.0       Iteration at which to begin NG a…\n",
       " 276 │ BW_NG        10.0       Depth band width for NG accelera…\n",
       " 277 │ ITS/NG       20.0       Number of iterations between NG …\n",
       "\u001b[36m                                                 262 rows omitted\u001b[0m"
      ]
     },
     "metadata": {},
     "output_type": "display_data"
    }
   ],
   "source": [
    "include(\"read__MODEL.jl\")\n",
    "params_df = read__model(modeldir * \"/MODEL\")"
   ]
  },
  {
   "cell_type": "code",
   "execution_count": 6,
   "id": "161d77f6",
   "metadata": {},
   "outputs": [
    {
     "data": {
      "text/html": [
       "<div><div style = \"float: left;\"><span>1×3 DataFrame</span></div><div style = \"clear: both;\"></div></div><div class = \"data-frame\" style = \"overflow-x: scroll;\"><table class = \"data-frame\" style = \"margin-bottom: 6px;\"><thead><tr class = \"header\"><th class = \"rowNumber\" style = \"font-weight: bold; text-align: right;\">Row</th><th style = \"text-align: left;\">parameter</th><th style = \"text-align: left;\">value</th><th style = \"text-align: left;\">description</th></tr><tr class = \"subheader headerLastRow\"><th class = \"rowNumber\" style = \"font-weight: bold; text-align: right;\"></th><th title = \"String\" style = \"text-align: left;\">String</th><th title = \"Any\" style = \"text-align: left;\">Any</th><th title = \"String\" style = \"text-align: left;\">String</th></tr></thead><tbody><tr><td class = \"rowNumber\" style = \"font-weight: bold; text-align: right;\">1</td><td style = \"text-align: left;\">MDOT</td><td style = \"text-align: left;\">1.0e-8</td><td style = \"text-align: left;\">Mass Loss rate (Msun/yr)</td></tr></tbody></table></div>"
      ],
      "text/latex": [
       "\\begin{tabular}{r|ccc}\n",
       "\t& parameter & value & description\\\\\n",
       "\t\\hline\n",
       "\t& String & Any & String\\\\\n",
       "\t\\hline\n",
       "\t1 & MDOT & 1.0e-8 & Mass Loss rate (Msun/yr) \\\\\n",
       "\\end{tabular}\n"
      ],
      "text/plain": [
       "\u001b[1m1×3 DataFrame\u001b[0m\n",
       "\u001b[1m Row \u001b[0m│\u001b[1m parameter \u001b[0m\u001b[1m value  \u001b[0m\u001b[1m description              \u001b[0m\n",
       "     │\u001b[90m String    \u001b[0m\u001b[90m Any    \u001b[0m\u001b[90m String                   \u001b[0m\n",
       "─────┼─────────────────────────────────────────────\n",
       "   1 │ MDOT       1.0e-8  Mass Loss rate (Msun/yr)"
      ]
     },
     "metadata": {},
     "output_type": "display_data"
    }
   ],
   "source": [
    "params_df[params_df.parameter .== \"MDOT\", :]"
   ]
  },
  {
   "cell_type": "markdown",
   "id": "9c7aed1c",
   "metadata": {},
   "source": [
    "### Reading HYDRO file"
   ]
  },
  {
   "cell_type": "code",
   "execution_count": 7,
   "id": "cd2e708b",
   "metadata": {},
   "outputs": [],
   "source": [
    "include(\"read__HYDRO.jl\")"
   ]
  },
  {
   "cell_type": "code",
   "execution_count": 8,
   "id": "3bdc5e27",
   "metadata": {},
   "outputs": [
    {
     "data": {
      "text/html": [
       "<div><div style = \"float: left;\"><span>70×12 DataFrame</span></div><div style = \"float: right;\"><span style = \"font-style: italic;\">45 rows omitted</span></div><div style = \"clear: both;\"></div></div><div class = \"data-frame\" style = \"overflow-x: scroll;\"><table class = \"data-frame\" style = \"margin-bottom: 6px;\"><thead><tr class = \"header\"><th class = \"rowNumber\" style = \"font-weight: bold; text-align: right;\">Row</th><th style = \"text-align: left;\">R</th><th style = \"text-align: left;\">V</th><th style = \"text-align: left;\">% Error</th><th style = \"text-align: left;\">VdVdR</th><th style = \"text-align: left;\">dPdR/ROH</th><th style = \"text-align: left;\">g_TOT</th><th style = \"text-align: left;\">g_RAD</th><th style = \"text-align: left;\">g_ELEC</th><th style = \"text-align: left;\">Gamma</th><th style = \"text-align: left;\">Depth</th><th style = \"text-align: left;\">Tau</th><th style = \"text-align: left;\">Vsound</th></tr><tr class = \"subheader headerLastRow\"><th class = \"rowNumber\" style = \"font-weight: bold; text-align: right;\"></th><th title = \"Float64\" style = \"text-align: left;\">Float64</th><th title = \"Float64\" style = \"text-align: left;\">Float64</th><th title = \"Float64\" style = \"text-align: left;\">Float64</th><th title = \"Float64\" style = \"text-align: left;\">Float64</th><th title = \"Float64\" style = \"text-align: left;\">Float64</th><th title = \"Float64\" style = \"text-align: left;\">Float64</th><th title = \"Float64\" style = \"text-align: left;\">Float64</th><th title = \"Float64\" style = \"text-align: left;\">Float64</th><th title = \"Float64\" style = \"text-align: left;\">Float64</th><th title = \"Float64\" style = \"text-align: left;\">Float64</th><th title = \"Float64\" style = \"text-align: left;\">Float64</th><th title = \"Float64\" style = \"text-align: left;\">Float64</th></tr></thead><tbody><tr><td class = \"rowNumber\" style = \"font-weight: bold; text-align: right;\">1</td><td style = \"text-align: right;\">1.27125e5</td><td style = \"text-align: right;\">258.84</td><td style = \"text-align: right;\">-70.57</td><td style = \"text-align: right;\">0.0023662</td><td style = \"text-align: right;\">-0.0015251</td><td style = \"text-align: right;\">0.0034215</td><td style = \"text-align: right;\">0.0043639</td><td style = \"text-align: right;\">0.00010659</td><td style = \"text-align: right;\">4.63</td><td style = \"text-align: right;\">1.0</td><td style = \"text-align: right;\">4.93e-7</td><td style = \"text-align: right;\">9.8</td></tr><tr><td class = \"rowNumber\" style = \"font-weight: bold; text-align: right;\">2</td><td style = \"text-align: right;\">1.25766e5</td><td style = \"text-align: right;\">258.82</td><td style = \"text-align: right;\">-70.28</td><td style = \"text-align: right;\">0.0024186</td><td style = \"text-align: right;\">-0.001544</td><td style = \"text-align: right;\">0.0034954</td><td style = \"text-align: right;\">0.0044583</td><td style = \"text-align: right;\">0.00010891</td><td style = \"text-align: right;\">4.63</td><td style = \"text-align: right;\">2.0</td><td style = \"text-align: right;\">4.98e-7</td><td style = \"text-align: right;\">9.8</td></tr><tr><td class = \"rowNumber\" style = \"font-weight: bold; text-align: right;\">3</td><td style = \"text-align: right;\">1.23089e5</td><td style = \"text-align: right;\">258.8</td><td style = \"text-align: right;\">-69.73</td><td style = \"text-align: right;\">0.0025255</td><td style = \"text-align: right;\">-0.001581</td><td style = \"text-align: right;\">0.0036478</td><td style = \"text-align: right;\">0.004653</td><td style = \"text-align: right;\">0.0001137</td><td style = \"text-align: right;\">4.63</td><td style = \"text-align: right;\">3.0</td><td style = \"text-align: right;\">5.09e-7</td><td style = \"text-align: right;\">9.8</td></tr><tr><td class = \"rowNumber\" style = \"font-weight: bold; text-align: right;\">4</td><td style = \"text-align: right;\">117911.0</td><td style = \"text-align: right;\">258.75</td><td style = \"text-align: right;\">-68.62</td><td style = \"text-align: right;\">0.0027565</td><td style = \"text-align: right;\">-0.0016628</td><td style = \"text-align: right;\">0.0039731</td><td style = \"text-align: right;\">0.0050685</td><td style = \"text-align: right;\">0.0001239</td><td style = \"text-align: right;\">4.63</td><td style = \"text-align: right;\">4.0</td><td style = \"text-align: right;\">5.31e-7</td><td style = \"text-align: right;\">9.81</td></tr><tr><td class = \"rowNumber\" style = \"font-weight: bold; text-align: right;\">5</td><td style = \"text-align: right;\">1.082e5</td><td style = \"text-align: right;\">258.63</td><td style = \"text-align: right;\">-66.18</td><td style = \"text-align: right;\">0.0033073</td><td style = \"text-align: right;\">-0.0018631</td><td style = \"text-align: right;\">0.0047151</td><td style = \"text-align: right;\">0.006016</td><td style = \"text-align: right;\">0.00014715</td><td style = \"text-align: right;\">4.62</td><td style = \"text-align: right;\">5.0</td><td style = \"text-align: right;\">5.79e-7</td><td style = \"text-align: right;\">9.81</td></tr><tr><td class = \"rowNumber\" style = \"font-weight: bold; text-align: right;\">6</td><td style = \"text-align: right;\">91091.8</td><td style = \"text-align: right;\">258.38</td><td style = \"text-align: right;\">-60.08</td><td style = \"text-align: right;\">0.0048992</td><td style = \"text-align: right;\">-0.002455</td><td style = \"text-align: right;\">0.0066515</td><td style = \"text-align: right;\">0.0084868</td><td style = \"text-align: right;\">0.00020762</td><td style = \"text-align: right;\">4.62</td><td style = \"text-align: right;\">6.0</td><td style = \"text-align: right;\">6.89e-7</td><td style = \"text-align: right;\">9.84</td></tr><tr><td class = \"rowNumber\" style = \"font-weight: bold; text-align: right;\">7</td><td style = \"text-align: right;\">65261.4</td><td style = \"text-align: right;\">257.73</td><td style = \"text-align: right;\">-50.43</td><td style = \"text-align: right;\">0.0099512</td><td style = \"text-align: right;\">-0.003732</td><td style = \"text-align: right;\">0.01293</td><td style = \"text-align: right;\">0.016506</td><td style = \"text-align: right;\">0.0004045</td><td style = \"text-align: right;\">4.62</td><td style = \"text-align: right;\">7.0</td><td style = \"text-align: right;\">9.62e-7</td><td style = \"text-align: right;\">9.89</td></tr><tr><td class = \"rowNumber\" style = \"font-weight: bold; text-align: right;\">8</td><td style = \"text-align: right;\">46824.1</td><td style = \"text-align: right;\">256.84</td><td style = \"text-align: right;\">-45.11</td><td style = \"text-align: right;\">0.019186</td><td style = \"text-align: right;\">-0.0053165</td><td style = \"text-align: right;\">0.025044</td><td style = \"text-align: right;\">0.03199</td><td style = \"text-align: right;\">0.00078581</td><td style = \"text-align: right;\">4.61</td><td style = \"text-align: right;\">8.0</td><td style = \"text-align: right;\">1.34e-6</td><td style = \"text-align: right;\">9.96</td></tr><tr><td class = \"rowNumber\" style = \"font-weight: bold; text-align: right;\">9</td><td style = \"text-align: right;\">33628.7</td><td style = \"text-align: right;\">255.61</td><td style = \"text-align: right;\">-41.27</td><td style = \"text-align: right;\">0.036888</td><td style = \"text-align: right;\">-0.0075771</td><td style = \"text-align: right;\">0.048492</td><td style = \"text-align: right;\">0.061959</td><td style = \"text-align: right;\">0.0015236</td><td style = \"text-align: right;\">4.6</td><td style = \"text-align: right;\">9.0</td><td style = \"text-align: right;\">1.88e-6</td><td style = \"text-align: right;\">10.04</td></tr><tr><td class = \"rowNumber\" style = \"font-weight: bold; text-align: right;\">10</td><td style = \"text-align: right;\">24181.3</td><td style = \"text-align: right;\">253.9</td><td style = \"text-align: right;\">-38.62</td><td style = \"text-align: right;\">0.070513</td><td style = \"text-align: right;\">-0.010774</td><td style = \"text-align: right;\">0.093489</td><td style = \"text-align: right;\">0.11953</td><td style = \"text-align: right;\">0.0029468</td><td style = \"text-align: right;\">4.59</td><td style = \"text-align: right;\">10.0</td><td style = \"text-align: right;\">2.62e-6</td><td style = \"text-align: right;\">10.13</td></tr><tr><td class = \"rowNumber\" style = \"font-weight: bold; text-align: right;\">11</td><td style = \"text-align: right;\">17415.3</td><td style = \"text-align: right;\">251.55</td><td style = \"text-align: right;\">-37.29</td><td style = \"text-align: right;\">0.13371</td><td style = \"text-align: right;\">-0.015285</td><td style = \"text-align: right;\">0.17971</td><td style = \"text-align: right;\">0.22992</td><td style = \"text-align: right;\">0.0056817</td><td style = \"text-align: right;\">4.58</td><td style = \"text-align: right;\">11.0</td><td style = \"text-align: right;\">3.66e-6</td><td style = \"text-align: right;\">10.22</td></tr><tr><td class = \"rowNumber\" style = \"font-weight: bold; text-align: right;\">12</td><td style = \"text-align: right;\">12568.8</td><td style = \"text-align: right;\">248.33</td><td style = \"text-align: right;\">-37.1</td><td style = \"text-align: right;\">0.2507</td><td style = \"text-align: right;\">-0.021691</td><td style = \"text-align: right;\">0.34321</td><td style = \"text-align: right;\">0.43961</td><td style = \"text-align: right;\">0.010909</td><td style = \"text-align: right;\">4.56</td><td style = \"text-align: right;\">12.0</td><td style = \"text-align: right;\">5.11e-6</td><td style = \"text-align: right;\">10.31</td></tr><tr><td class = \"rowNumber\" style = \"font-weight: bold; text-align: right;\">13</td><td style = \"text-align: right;\">9097.09</td><td style = \"text-align: right;\">243.97</td><td style = \"text-align: right;\">-38.24</td><td style = \"text-align: right;\">0.46252</td><td style = \"text-align: right;\">-0.030943</td><td style = \"text-align: right;\">0.65026</td><td style = \"text-align: right;\">0.83428</td><td style = \"text-align: right;\">0.020827</td><td style = \"text-align: right;\">4.53</td><td style = \"text-align: right;\">13.0</td><td style = \"text-align: right;\">7.13e-6</td><td style = \"text-align: right;\">10.41</td></tr><tr><td style = \"text-align: right;\">&vellip;</td><td style = \"text-align: right;\">&vellip;</td><td style = \"text-align: right;\">&vellip;</td><td style = \"text-align: right;\">&vellip;</td><td style = \"text-align: right;\">&vellip;</td><td style = \"text-align: right;\">&vellip;</td><td style = \"text-align: right;\">&vellip;</td><td style = \"text-align: right;\">&vellip;</td><td style = \"text-align: right;\">&vellip;</td><td style = \"text-align: right;\">&vellip;</td><td style = \"text-align: right;\">&vellip;</td><td style = \"text-align: right;\">&vellip;</td><td style = \"text-align: right;\">&vellip;</td></tr><tr><td class = \"rowNumber\" style = \"font-weight: bold; text-align: right;\">59</td><td style = \"text-align: right;\">292.011</td><td style = \"text-align: right;\">0.00098496</td><td style = \"text-align: right;\">-0.72</td><td style = \"text-align: right;\">4.1989e-7</td><td style = \"text-align: right;\">-105.04</td><td style = \"text-align: right;\">-104.28</td><td style = \"text-align: right;\">74.318</td><td style = \"text-align: right;\">19.345</td><td style = \"text-align: right;\">0.42</td><td style = \"text-align: right;\">59.0</td><td style = \"text-align: right;\">1.03</td><td style = \"text-align: right;\">13.56</td></tr><tr><td class = \"rowNumber\" style = \"font-weight: bold; text-align: right;\">60</td><td style = \"text-align: right;\">291.475</td><td style = \"text-align: right;\">0.00079189</td><td style = \"text-align: right;\">-1.02</td><td style = \"text-align: right;\">2.5152e-7</td><td style = \"text-align: right;\">-105.28</td><td style = \"text-align: right;\">-104.22</td><td style = \"text-align: right;\">75.04</td><td style = \"text-align: right;\">19.819</td><td style = \"text-align: right;\">0.42</td><td style = \"text-align: right;\">60.0</td><td style = \"text-align: right;\">1.44</td><td style = \"text-align: right;\">14.06</td></tr><tr><td class = \"rowNumber\" style = \"font-weight: bold; text-align: right;\">61</td><td style = \"text-align: right;\">290.877</td><td style = \"text-align: right;\">0.00063018</td><td style = \"text-align: right;\">-1.01</td><td style = \"text-align: right;\">1.5049e-7</td><td style = \"text-align: right;\">-106.14</td><td style = \"text-align: right;\">-105.08</td><td style = \"text-align: right;\">74.919</td><td style = \"text-align: right;\">20.149</td><td style = \"text-align: right;\">0.42</td><td style = \"text-align: right;\">61.0</td><td style = \"text-align: right;\">2.01</td><td style = \"text-align: right;\">14.58</td></tr><tr><td class = \"rowNumber\" style = \"font-weight: bold; text-align: right;\">62</td><td style = \"text-align: right;\">290.216</td><td style = \"text-align: right;\">0.00049565</td><td style = \"text-align: right;\">-1.04</td><td style = \"text-align: right;\">8.8272e-8</td><td style = \"text-align: right;\">-107.44</td><td style = \"text-align: right;\">-106.33</td><td style = \"text-align: right;\">74.486</td><td style = \"text-align: right;\">20.352</td><td style = \"text-align: right;\">0.41</td><td style = \"text-align: right;\">62.0</td><td style = \"text-align: right;\">2.81</td><td style = \"text-align: right;\">15.12</td></tr><tr><td class = \"rowNumber\" style = \"font-weight: bold; text-align: right;\">63</td><td style = \"text-align: right;\">289.49</td><td style = \"text-align: right;\">0.00038651</td><td style = \"text-align: right;\">-1.18</td><td style = \"text-align: right;\">5.07e-8</td><td style = \"text-align: right;\">-109.03</td><td style = \"text-align: right;\">-107.75</td><td style = \"text-align: right;\">73.974</td><td style = \"text-align: right;\">20.496</td><td style = \"text-align: right;\">0.41</td><td style = \"text-align: right;\">63.0</td><td style = \"text-align: right;\">3.92</td><td style = \"text-align: right;\">15.69</td></tr><tr><td class = \"rowNumber\" style = \"font-weight: bold; text-align: right;\">64</td><td style = \"text-align: right;\">288.701</td><td style = \"text-align: right;\">0.00029946</td><td style = \"text-align: right;\">-1.24</td><td style = \"text-align: right;\">2.8731e-8</td><td style = \"text-align: right;\">-110.96</td><td style = \"text-align: right;\">-109.58</td><td style = \"text-align: right;\">73.136</td><td style = \"text-align: right;\">20.626</td><td style = \"text-align: right;\">0.4</td><td style = \"text-align: right;\">64.0</td><td style = \"text-align: right;\">5.48</td><td style = \"text-align: right;\">16.29</td></tr><tr><td class = \"rowNumber\" style = \"font-weight: bold; text-align: right;\">65</td><td style = \"text-align: right;\">287.846</td><td style = \"text-align: right;\">0.00023067</td><td style = \"text-align: right;\">-0.8</td><td style = \"text-align: right;\">1.6059e-8</td><td style = \"text-align: right;\">-112.75</td><td style = \"text-align: right;\">-111.85</td><td style = \"text-align: right;\">71.956</td><td style = \"text-align: right;\">20.756</td><td style = \"text-align: right;\">0.39</td><td style = \"text-align: right;\">65.0</td><td style = \"text-align: right;\">7.64</td><td style = \"text-align: right;\">16.93</td></tr><tr><td class = \"rowNumber\" style = \"font-weight: bold; text-align: right;\">66</td><td style = \"text-align: right;\">286.93</td><td style = \"text-align: right;\">0.00017756</td><td style = \"text-align: right;\">-0.29</td><td style = \"text-align: right;\">8.8209e-9</td><td style = \"text-align: right;\">-113.27</td><td style = \"text-align: right;\">-112.95</td><td style = \"text-align: right;\">72.036</td><td style = \"text-align: right;\">20.893</td><td style = \"text-align: right;\">0.39</td><td style = \"text-align: right;\">66.0</td><td style = \"text-align: right;\">10.66</td><td style = \"text-align: right;\">17.6</td></tr><tr><td class = \"rowNumber\" style = \"font-weight: bold; text-align: right;\">67</td><td style = \"text-align: right;\">285.955</td><td style = \"text-align: right;\">0.00013776</td><td style = \"text-align: right;\">0.04</td><td style = \"text-align: right;\">4.7168e-9</td><td style = \"text-align: right;\">-111.79</td><td style = \"text-align: right;\">-111.83</td><td style = \"text-align: right;\">74.417</td><td style = \"text-align: right;\">21.038</td><td style = \"text-align: right;\">0.4</td><td style = \"text-align: right;\">67.0</td><td style = \"text-align: right;\">14.91</td><td style = \"text-align: right;\">18.31</td></tr><tr><td class = \"rowNumber\" style = \"font-weight: bold; text-align: right;\">68</td><td style = \"text-align: right;\">285.435</td><td style = \"text-align: right;\">0.00012177</td><td style = \"text-align: right;\">0.22</td><td style = \"text-align: right;\">3.3998e-9</td><td style = \"text-align: right;\">-110.27</td><td style = \"text-align: right;\">-110.52</td><td style = \"text-align: right;\">76.411</td><td style = \"text-align: right;\">21.117</td><td style = \"text-align: right;\">0.41</td><td style = \"text-align: right;\">68.0</td><td style = \"text-align: right;\">17.73</td><td style = \"text-align: right;\">18.7</td></tr><tr><td class = \"rowNumber\" style = \"font-weight: bold; text-align: right;\">69</td><td style = \"text-align: right;\">285.171</td><td style = \"text-align: right;\">0.00011478</td><td style = \"text-align: right;\">-0.28</td><td style = \"text-align: right;\">2.8899e-9</td><td style = \"text-align: right;\">-109.32</td><td style = \"text-align: right;\">-109.01</td><td style = \"text-align: right;\">78.258</td><td style = \"text-align: right;\">21.158</td><td style = \"text-align: right;\">0.42</td><td style = \"text-align: right;\">69.0</td><td style = \"text-align: right;\">19.34</td><td style = \"text-align: right;\">18.9</td></tr><tr><td class = \"rowNumber\" style = \"font-weight: bold; text-align: right;\">70</td><td style = \"text-align: right;\">285.082</td><td style = \"text-align: right;\">0.00011259</td><td style = \"text-align: right;\">0.07</td><td style = \"text-align: right;\">2.7354e-9</td><td style = \"text-align: right;\">-109.0</td><td style = \"text-align: right;\">-109.07</td><td style = \"text-align: right;\">78.319</td><td style = \"text-align: right;\">21.172</td><td style = \"text-align: right;\">0.42</td><td style = \"text-align: right;\">70.0</td><td style = \"text-align: right;\">19.91</td><td style = \"text-align: right;\">18.96</td></tr></tbody></table></div>"
      ],
      "text/latex": [
       "\\begin{tabular}{r|ccccccccc}\n",
       "\t& R & V & \\% Error & VdVdR & dPdR/ROH & g\\_TOT & g\\_RAD & g\\_ELEC & \\\\\n",
       "\t\\hline\n",
       "\t& Float64 & Float64 & Float64 & Float64 & Float64 & Float64 & Float64 & Float64 & \\\\\n",
       "\t\\hline\n",
       "\t1 & 1.27125e5 & 258.84 & -70.57 & 0.0023662 & -0.0015251 & 0.0034215 & 0.0043639 & 0.00010659 & $\\dots$ \\\\\n",
       "\t2 & 1.25766e5 & 258.82 & -70.28 & 0.0024186 & -0.001544 & 0.0034954 & 0.0044583 & 0.00010891 & $\\dots$ \\\\\n",
       "\t3 & 1.23089e5 & 258.8 & -69.73 & 0.0025255 & -0.001581 & 0.0036478 & 0.004653 & 0.0001137 & $\\dots$ \\\\\n",
       "\t4 & 117911.0 & 258.75 & -68.62 & 0.0027565 & -0.0016628 & 0.0039731 & 0.0050685 & 0.0001239 & $\\dots$ \\\\\n",
       "\t5 & 1.082e5 & 258.63 & -66.18 & 0.0033073 & -0.0018631 & 0.0047151 & 0.006016 & 0.00014715 & $\\dots$ \\\\\n",
       "\t6 & 91091.8 & 258.38 & -60.08 & 0.0048992 & -0.002455 & 0.0066515 & 0.0084868 & 0.00020762 & $\\dots$ \\\\\n",
       "\t7 & 65261.4 & 257.73 & -50.43 & 0.0099512 & -0.003732 & 0.01293 & 0.016506 & 0.0004045 & $\\dots$ \\\\\n",
       "\t8 & 46824.1 & 256.84 & -45.11 & 0.019186 & -0.0053165 & 0.025044 & 0.03199 & 0.00078581 & $\\dots$ \\\\\n",
       "\t9 & 33628.7 & 255.61 & -41.27 & 0.036888 & -0.0075771 & 0.048492 & 0.061959 & 0.0015236 & $\\dots$ \\\\\n",
       "\t10 & 24181.3 & 253.9 & -38.62 & 0.070513 & -0.010774 & 0.093489 & 0.11953 & 0.0029468 & $\\dots$ \\\\\n",
       "\t11 & 17415.3 & 251.55 & -37.29 & 0.13371 & -0.015285 & 0.17971 & 0.22992 & 0.0056817 & $\\dots$ \\\\\n",
       "\t12 & 12568.8 & 248.33 & -37.1 & 0.2507 & -0.021691 & 0.34321 & 0.43961 & 0.010909 & $\\dots$ \\\\\n",
       "\t13 & 9097.09 & 243.97 & -38.24 & 0.46252 & -0.030943 & 0.65026 & 0.83428 & 0.020827 & $\\dots$ \\\\\n",
       "\t14 & 6610.46 & 238.12 & -40.32 & 0.83731 & -0.044512 & 1.2156 & 1.5641 & 0.039447 & $\\dots$ \\\\\n",
       "\t15 & 4828.65 & 230.37 & -43.03 & 1.4797 & -0.064686 & 2.2263 & 2.8795 & 0.073939 & $\\dots$ \\\\\n",
       "\t16 & 3551.13 & 220.26 & -46.64 & 2.5347 & -0.094653 & 3.9817 & 5.1894 & 0.13672 & $\\dots$ \\\\\n",
       "\t17 & 2633.88 & 207.34 & -50.52 & 4.1789 & -0.13844 & 6.8649 & 9.0602 & 0.24853 & $\\dots$ \\\\\n",
       "\t18 & 1973.71 & 191.15 & -53.63 & 6.5976 & -0.20126 & 11.231 & 15.141 & 0.44254 & $\\dots$ \\\\\n",
       "\t19 & 1497.33 & 171.27 & -56.01 & 9.6889 & -0.29192 & 16.934 & 23.727 & 0.7687 & $\\dots$ \\\\\n",
       "\t20 & 1154.37 & 148.2 & -60.72 & 12.68 & -0.42321 & 23.313 & 34.741 & 1.2927 & $\\dots$ \\\\\n",
       "\t21 & 907.496 & 123.83 & -64.44 & 15.218 & -0.58084 & 29.106 & 47.599 & 2.0903 & $\\dots$ \\\\\n",
       "\t22 & 728.618 & 98.715 & -64.97 & 16.372 & -0.75907 & 31.37 & 60.057 & 3.24 & $\\dots$ \\\\\n",
       "\t23 & 599.312 & 74.89 & -56.98 & 15.342 & -1.0393 & 26.527 & 68.928 & 4.7845 & $\\dots$ \\\\\n",
       "\t24 & 506.086 & 54.406 & 48.11 & 12.61 & -1.4635 & 6.2561 & 65.717 & 6.7036 & $\\dots$ \\\\\n",
       "\t$\\dots$ & $\\dots$ & $\\dots$ & $\\dots$ & $\\dots$ & $\\dots$ & $\\dots$ & $\\dots$ & $\\dots$ &  \\\\\n",
       "\\end{tabular}\n"
      ],
      "text/plain": [
       "\u001b[1m70×12 DataFrame\u001b[0m\n",
       "\u001b[1m Row \u001b[0m│\u001b[1m R              \u001b[0m\u001b[1m V            \u001b[0m\u001b[1m % Error \u001b[0m\u001b[1m VdVdR     \u001b[0m\u001b[1m dPdR/ROH     \u001b[0m\u001b[1m g_TOT  \u001b[0m ⋯\n",
       "     │\u001b[90m Float64        \u001b[0m\u001b[90m Float64      \u001b[0m\u001b[90m Float64 \u001b[0m\u001b[90m Float64   \u001b[0m\u001b[90m Float64      \u001b[0m\u001b[90m Float64\u001b[0m ⋯\n",
       "─────┼──────────────────────────────────────────────────────────────────────────\n",
       "   1 │      1.27125e5  258.84         -70.57  0.0023662    -0.0015251     0.00 ⋯\n",
       "   2 │      1.25766e5  258.82         -70.28  0.0024186    -0.001544      0.00\n",
       "   3 │      1.23089e5  258.8          -69.73  0.0025255    -0.001581      0.00\n",
       "   4 │ 117911.0        258.75         -68.62  0.0027565    -0.0016628     0.00\n",
       "   5 │      1.082e5    258.63         -66.18  0.0033073    -0.0018631     0.00 ⋯\n",
       "   6 │  91091.8        258.38         -60.08  0.0048992    -0.002455      0.00\n",
       "   7 │  65261.4        257.73         -50.43  0.0099512    -0.003732      0.01\n",
       "   8 │  46824.1        256.84         -45.11  0.019186     -0.0053165     0.02\n",
       "  ⋮  │       ⋮              ⋮           ⋮         ⋮           ⋮             ⋮  ⋱\n",
       "  64 │    288.701        0.00029946    -1.24  2.8731e-8  -110.96       -109.58 ⋯\n",
       "  65 │    287.846        0.00023067    -0.8   1.6059e-8  -112.75       -111.85\n",
       "  66 │    286.93         0.00017756    -0.29  8.8209e-9  -113.27       -112.95\n",
       "  67 │    285.955        0.00013776     0.04  4.7168e-9  -111.79       -111.83\n",
       "  68 │    285.435        0.00012177     0.22  3.3998e-9  -110.27       -110.52 ⋯\n",
       "  69 │    285.171        0.00011478    -0.28  2.8899e-9  -109.32       -109.01\n",
       "  70 │    285.082        0.00011259     0.07  2.7354e-9  -109.0        -109.07\n",
       "\u001b[36m                                                   7 columns and 55 rows omitted\u001b[0m"
      ]
     },
     "metadata": {},
     "output_type": "display_data"
    }
   ],
   "source": [
    "read__hydro(modeldir*\"/HYDRO\")"
   ]
  },
  {
   "cell_type": "markdown",
   "id": "10347575",
   "metadata": {},
   "source": [
    "### Reading MEANOPAC"
   ]
  },
  {
   "cell_type": "code",
   "execution_count": 9,
   "id": "2c093ea7",
   "metadata": {},
   "outputs": [],
   "source": [
    "include(\"read__MEANOPAC.jl\")"
   ]
  },
  {
   "cell_type": "code",
   "execution_count": 10,
   "id": "8c05be03",
   "metadata": {},
   "outputs": [
    {
     "data": {
      "text/html": [
       "<div><div style = \"float: left;\"><span>70×14 DataFrame</span></div><div style = \"float: right;\"><span style = \"font-style: italic;\">45 rows omitted</span></div><div style = \"clear: both;\"></div></div><div class = \"data-frame\" style = \"overflow-x: scroll;\"><table class = \"data-frame\" style = \"margin-bottom: 6px;\"><thead><tr class = \"header\"><th class = \"rowNumber\" style = \"font-weight: bold; text-align: right;\">Row</th><th style = \"text-align: left;\">R</th><th style = \"text-align: left;\">I</th><th style = \"text-align: left;\">Tau(Ross)</th><th style = \"text-align: left;\">/\\\\Tau</th><th style = \"text-align: left;\">Rat(Ross) Chi(Ross)</th><th style = \"text-align: left;\">Chi(ross)</th><th style = \"text-align: left;\">Chi(Flux)</th><th style = \"text-align: left;\">Chi(es)</th><th style = \"text-align: left;\">Tau(Flux)</th><th style = \"text-align: left;\">Tau(es)</th><th style = \"text-align: left;\">Rat(Flux)</th><th style = \"text-align: left;\">Rat(es)</th><th style = \"text-align: left;\">Kappa(R)</th><th style = \"text-align: left;\">V(km/s)</th></tr><tr class = \"subheader headerLastRow\"><th class = \"rowNumber\" style = \"font-weight: bold; text-align: right;\"></th><th title = \"Float64\" style = \"text-align: left;\">Float64</th><th title = \"Float64\" style = \"text-align: left;\">Float64</th><th title = \"Float64\" style = \"text-align: left;\">Float64</th><th title = \"Float64\" style = \"text-align: left;\">Float64</th><th title = \"Float64\" style = \"text-align: left;\">Float64</th><th title = \"Float64\" style = \"text-align: left;\">Float64</th><th title = \"Float64\" style = \"text-align: left;\">Float64</th><th title = \"Float64\" style = \"text-align: left;\">Float64</th><th title = \"Float64\" style = \"text-align: left;\">Float64</th><th title = \"Float64\" style = \"text-align: left;\">Float64</th><th title = \"Float64\" style = \"text-align: left;\">Float64</th><th title = \"Float64\" style = \"text-align: left;\">Float64</th><th title = \"Float64\" style = \"text-align: left;\">Float64</th><th title = \"Float64\" style = \"text-align: left;\">Float64</th></tr></thead><tbody><tr><td class = \"rowNumber\" style = \"font-weight: bold; text-align: right;\">1</td><td style = \"text-align: right;\">1.27125e5</td><td style = \"text-align: right;\">1.0</td><td style = \"text-align: right;\">4.922e-7</td><td style = \"text-align: right;\">5.351e-9</td><td style = \"text-align: right;\">0.0</td><td style = \"text-align: right;\">3.894e-12</td><td style = \"text-align: right;\">3.894e-12</td><td style = \"text-align: right;\">1.573e-10</td><td style = \"text-align: right;\">3.842e-12</td><td style = \"text-align: right;\">2.0e-5</td><td style = \"text-align: right;\">4.86e-7</td><td style = \"text-align: right;\">0.0</td><td style = \"text-align: right;\">0.0</td><td style = \"text-align: right;\">0.3245</td></tr><tr><td class = \"rowNumber\" style = \"font-weight: bold; text-align: right;\">2</td><td style = \"text-align: right;\">1.25766e5</td><td style = \"text-align: right;\">2.0</td><td style = \"text-align: right;\">4.975e-7</td><td style = \"text-align: right;\">1.088e-8</td><td style = \"text-align: right;\">2.03</td><td style = \"text-align: right;\">3.978e-12</td><td style = \"text-align: right;\">3.978e-12</td><td style = \"text-align: right;\">1.607e-10</td><td style = \"text-align: right;\">3.926e-12</td><td style = \"text-align: right;\">2.02e-5</td><td style = \"text-align: right;\">4.91e-7</td><td style = \"text-align: right;\">2.03</td><td style = \"text-align: right;\">2.03</td><td style = \"text-align: right;\">0.3245</td></tr><tr><td class = \"rowNumber\" style = \"font-weight: bold; text-align: right;\">3</td><td style = \"text-align: right;\">1.23089e5</td><td style = \"text-align: right;\">3.0</td><td style = \"text-align: right;\">5.084e-7</td><td style = \"text-align: right;\">2.246e-8</td><td style = \"text-align: right;\">2.06</td><td style = \"text-align: right;\">4.154e-12</td><td style = \"text-align: right;\">4.154e-12</td><td style = \"text-align: right;\">1.677e-10</td><td style = \"text-align: right;\">4.099e-12</td><td style = \"text-align: right;\">2.07e-5</td><td style = \"text-align: right;\">5.02e-7</td><td style = \"text-align: right;\">2.06</td><td style = \"text-align: right;\">2.06</td><td style = \"text-align: right;\">0.3245</td></tr><tr><td class = \"rowNumber\" style = \"font-weight: bold; text-align: right;\">4</td><td style = \"text-align: right;\">117911.0</td><td style = \"text-align: right;\">4.0</td><td style = \"text-align: right;\">5.309e-7</td><td style = \"text-align: right;\">4.793e-8</td><td style = \"text-align: right;\">2.13</td><td style = \"text-align: right;\">4.528e-12</td><td style = \"text-align: right;\">4.528e-12</td><td style = \"text-align: right;\">1.828e-10</td><td style = \"text-align: right;\">4.468e-12</td><td style = \"text-align: right;\">2.16e-5</td><td style = \"text-align: right;\">5.24e-7</td><td style = \"text-align: right;\">2.13</td><td style = \"text-align: right;\">2.13</td><td style = \"text-align: right;\">0.3245</td></tr><tr><td class = \"rowNumber\" style = \"font-weight: bold; text-align: right;\">5</td><td style = \"text-align: right;\">1.082e5</td><td style = \"text-align: right;\">5.0</td><td style = \"text-align: right;\">5.788e-7</td><td style = \"text-align: right;\">1.094e-7</td><td style = \"text-align: right;\">2.28</td><td style = \"text-align: right;\">5.38e-12</td><td style = \"text-align: right;\">5.38e-12</td><td style = \"text-align: right;\">2.17e-10</td><td style = \"text-align: right;\">5.308e-12</td><td style = \"text-align: right;\">2.35e-5</td><td style = \"text-align: right;\">5.72e-7</td><td style = \"text-align: right;\">2.28</td><td style = \"text-align: right;\">2.28</td><td style = \"text-align: right;\">0.3245</td></tr><tr><td class = \"rowNumber\" style = \"font-weight: bold; text-align: right;\">6</td><td style = \"text-align: right;\">91091.8</td><td style = \"text-align: right;\">6.0</td><td style = \"text-align: right;\">6.882e-7</td><td style = \"text-align: right;\">2.739e-7</td><td style = \"text-align: right;\">2.5</td><td style = \"text-align: right;\">7.6e-12</td><td style = \"text-align: right;\">7.6e-12</td><td style = \"text-align: right;\">3.064e-10</td><td style = \"text-align: right;\">7.497e-12</td><td style = \"text-align: right;\">2.79e-5</td><td style = \"text-align: right;\">6.79e-7</td><td style = \"text-align: right;\">2.5</td><td style = \"text-align: right;\">2.5</td><td style = \"text-align: right;\">0.3246</td></tr><tr><td class = \"rowNumber\" style = \"font-weight: bold; text-align: right;\">7</td><td style = \"text-align: right;\">65261.4</td><td style = \"text-align: right;\">7.0</td><td style = \"text-align: right;\">9.62e-7</td><td style = \"text-align: right;\">3.817e-7</td><td style = \"text-align: right;\">1.39</td><td style = \"text-align: right;\">1.485e-11</td><td style = \"text-align: right;\">1.485e-11</td><td style = \"text-align: right;\">5.975e-10</td><td style = \"text-align: right;\">1.464e-11</td><td style = \"text-align: right;\">3.89e-5</td><td style = \"text-align: right;\">9.49e-7</td><td style = \"text-align: right;\">1.39</td><td style = \"text-align: right;\">1.39</td><td style = \"text-align: right;\">0.3248</td></tr><tr><td class = \"rowNumber\" style = \"font-weight: bold; text-align: right;\">8</td><td style = \"text-align: right;\">46824.1</td><td style = \"text-align: right;\">8.0</td><td style = \"text-align: right;\">1.344e-6</td><td style = \"text-align: right;\">5.329e-7</td><td style = \"text-align: right;\">1.4</td><td style = \"text-align: right;\">2.898e-11</td><td style = \"text-align: right;\">2.898e-11</td><td style = \"text-align: right;\">1.162e-9</td><td style = \"text-align: right;\">2.854e-11</td><td style = \"text-align: right;\">5.43e-5</td><td style = \"text-align: right;\">1.33e-6</td><td style = \"text-align: right;\">1.39</td><td style = \"text-align: right;\">1.39</td><td style = \"text-align: right;\">0.3251</td></tr><tr><td class = \"rowNumber\" style = \"font-weight: bold; text-align: right;\">9</td><td style = \"text-align: right;\">33628.7</td><td style = \"text-align: right;\">9.0</td><td style = \"text-align: right;\">1.877e-6</td><td style = \"text-align: right;\">7.438e-7</td><td style = \"text-align: right;\">1.4</td><td style = \"text-align: right;\">5.651e-11</td><td style = \"text-align: right;\">5.651e-11</td><td style = \"text-align: right;\">2.261e-9</td><td style = \"text-align: right;\">5.561e-11</td><td style = \"text-align: right;\">7.56e-5</td><td style = \"text-align: right;\">1.85e-6</td><td style = \"text-align: right;\">1.39</td><td style = \"text-align: right;\">1.39</td><td style = \"text-align: right;\">0.3254</td></tr><tr><td class = \"rowNumber\" style = \"font-weight: bold; text-align: right;\">10</td><td style = \"text-align: right;\">24181.3</td><td style = \"text-align: right;\">10.0</td><td style = \"text-align: right;\">2.62e-6</td><td style = \"text-align: right;\">1.038e-6</td><td style = \"text-align: right;\">1.4</td><td style = \"text-align: right;\">1.102e-10</td><td style = \"text-align: right;\">1.102e-10</td><td style = \"text-align: right;\">4.392e-9</td><td style = \"text-align: right;\">1.083e-10</td><td style = \"text-align: right;\">0.000105</td><td style = \"text-align: right;\">2.58e-6</td><td style = \"text-align: right;\">1.39</td><td style = \"text-align: right;\">1.39</td><td style = \"text-align: right;\">0.3258</td></tr><tr><td class = \"rowNumber\" style = \"font-weight: bold; text-align: right;\">11</td><td style = \"text-align: right;\">17415.3</td><td style = \"text-align: right;\">11.0</td><td style = \"text-align: right;\">3.658e-6</td><td style = \"text-align: right;\">1.448e-6</td><td style = \"text-align: right;\">1.4</td><td style = \"text-align: right;\">2.146e-10</td><td style = \"text-align: right;\">2.146e-10</td><td style = \"text-align: right;\">8.527e-9</td><td style = \"text-align: right;\">2.107e-10</td><td style = \"text-align: right;\">0.000147</td><td style = \"text-align: right;\">3.6e-6</td><td style = \"text-align: right;\">1.39</td><td style = \"text-align: right;\">1.39</td><td style = \"text-align: right;\">0.3262</td></tr><tr><td class = \"rowNumber\" style = \"font-weight: bold; text-align: right;\">12</td><td style = \"text-align: right;\">12568.8</td><td style = \"text-align: right;\">12.0</td><td style = \"text-align: right;\">5.107e-6</td><td style = \"text-align: right;\">2.019e-6</td><td style = \"text-align: right;\">1.39</td><td style = \"text-align: right;\">4.178e-10</td><td style = \"text-align: right;\">4.178e-10</td><td style = \"text-align: right;\">1.652e-8</td><td style = \"text-align: right;\">4.098e-10</td><td style = \"text-align: right;\">0.000204</td><td style = \"text-align: right;\">5.02e-6</td><td style = \"text-align: right;\">1.39</td><td style = \"text-align: right;\">1.39</td><td style = \"text-align: right;\">0.3265</td></tr><tr><td class = \"rowNumber\" style = \"font-weight: bold; text-align: right;\">13</td><td style = \"text-align: right;\">9097.09</td><td style = \"text-align: right;\">13.0</td><td style = \"text-align: right;\">7.126e-6</td><td style = \"text-align: right;\">2.813e-6</td><td style = \"text-align: right;\">1.39</td><td style = \"text-align: right;\">8.13e-10</td><td style = \"text-align: right;\">8.13e-10</td><td style = \"text-align: right;\">3.19e-8</td><td style = \"text-align: right;\">7.964e-10</td><td style = \"text-align: right;\">0.000284</td><td style = \"text-align: right;\">7.0e-6</td><td style = \"text-align: right;\">1.38</td><td style = \"text-align: right;\">1.39</td><td style = \"text-align: right;\">0.327</td></tr><tr><td style = \"text-align: right;\">&vellip;</td><td style = \"text-align: right;\">&vellip;</td><td style = \"text-align: right;\">&vellip;</td><td style = \"text-align: right;\">&vellip;</td><td style = \"text-align: right;\">&vellip;</td><td style = \"text-align: right;\">&vellip;</td><td style = \"text-align: right;\">&vellip;</td><td style = \"text-align: right;\">&vellip;</td><td style = \"text-align: right;\">&vellip;</td><td style = \"text-align: right;\">&vellip;</td><td style = \"text-align: right;\">&vellip;</td><td style = \"text-align: right;\">&vellip;</td><td style = \"text-align: right;\">&vellip;</td><td style = \"text-align: right;\">&vellip;</td><td style = \"text-align: right;\">&vellip;</td></tr><tr><td class = \"rowNumber\" style = \"font-weight: bold; text-align: right;\">59</td><td style = \"text-align: right;\">292.011</td><td style = \"text-align: right;\">59.0</td><td style = \"text-align: right;\">1.034</td><td style = \"text-align: right;\">0.4089</td><td style = \"text-align: right;\">1.4</td><td style = \"text-align: right;\">0.6765</td><td style = \"text-align: right;\">0.6765</td><td style = \"text-align: right;\">0.7039</td><td style = \"text-align: right;\">0.1832</td><td style = \"text-align: right;\">1.09</td><td style = \"text-align: right;\">0.299</td><td style = \"text-align: right;\">1.39</td><td style = \"text-align: right;\">1.41</td><td style = \"text-align: right;\">1.132</td></tr><tr><td class = \"rowNumber\" style = \"font-weight: bold; text-align: right;\">60</td><td style = \"text-align: right;\">291.475</td><td style = \"text-align: right;\">60.0</td><td style = \"text-align: right;\">1.443</td><td style = \"text-align: right;\">0.5709</td><td style = \"text-align: right;\">1.4</td><td style = \"text-align: right;\">0.8503</td><td style = \"text-align: right;\">0.8503</td><td style = \"text-align: right;\">0.8841</td><td style = \"text-align: right;\">0.2335</td><td style = \"text-align: right;\">1.52</td><td style = \"text-align: right;\">0.411</td><td style = \"text-align: right;\">1.4</td><td style = \"text-align: right;\">1.42</td><td style = \"text-align: right;\">1.14</td></tr><tr><td class = \"rowNumber\" style = \"font-weight: bold; text-align: right;\">61</td><td style = \"text-align: right;\">290.877</td><td style = \"text-align: right;\">61.0</td><td style = \"text-align: right;\">2.014</td><td style = \"text-align: right;\">0.7968</td><td style = \"text-align: right;\">1.4</td><td style = \"text-align: right;\">1.067</td><td style = \"text-align: right;\">1.067</td><td style = \"text-align: right;\">1.109</td><td style = \"text-align: right;\">0.2983</td><td style = \"text-align: right;\">2.11</td><td style = \"text-align: right;\">0.569</td><td style = \"text-align: right;\">1.39</td><td style = \"text-align: right;\">1.42</td><td style = \"text-align: right;\">1.133</td></tr><tr><td class = \"rowNumber\" style = \"font-weight: bold; text-align: right;\">62</td><td style = \"text-align: right;\">290.216</td><td style = \"text-align: right;\">62.0</td><td style = \"text-align: right;\">2.811</td><td style = \"text-align: right;\">1.112</td><td style = \"text-align: right;\">1.4</td><td style = \"text-align: right;\">1.35</td><td style = \"text-align: right;\">1.35</td><td style = \"text-align: right;\">1.402</td><td style = \"text-align: right;\">0.3831</td><td style = \"text-align: right;\">2.94</td><td style = \"text-align: right;\">0.793</td><td style = \"text-align: right;\">1.39</td><td style = \"text-align: right;\">1.41</td><td style = \"text-align: right;\">1.123</td></tr><tr><td class = \"rowNumber\" style = \"font-weight: bold; text-align: right;\">63</td><td style = \"text-align: right;\">289.49</td><td style = \"text-align: right;\">63.0</td><td style = \"text-align: right;\">3.923</td><td style = \"text-align: right;\">1.552</td><td style = \"text-align: right;\">1.4</td><td style = \"text-align: right;\">1.727</td><td style = \"text-align: right;\">1.727</td><td style = \"text-align: right;\">1.786</td><td style = \"text-align: right;\">0.4947</td><td style = \"text-align: right;\">4.09</td><td style = \"text-align: right;\">1.11</td><td style = \"text-align: right;\">1.39</td><td style = \"text-align: right;\">1.41</td><td style = \"text-align: right;\">1.115</td></tr><tr><td class = \"rowNumber\" style = \"font-weight: bold; text-align: right;\">64</td><td style = \"text-align: right;\">288.701</td><td style = \"text-align: right;\">64.0</td><td style = \"text-align: right;\">5.475</td><td style = \"text-align: right;\">2.164</td><td style = \"text-align: right;\">1.39</td><td style = \"text-align: right;\">2.22</td><td style = \"text-align: right;\">2.22</td><td style = \"text-align: right;\">2.279</td><td style = \"text-align: right;\">0.6426</td><td style = \"text-align: right;\">5.69</td><td style = \"text-align: right;\">1.56</td><td style = \"text-align: right;\">1.38</td><td style = \"text-align: right;\">1.41</td><td style = \"text-align: right;\">1.104</td></tr><tr><td class = \"rowNumber\" style = \"font-weight: bold; text-align: right;\">65</td><td style = \"text-align: right;\">287.846</td><td style = \"text-align: right;\">65.0</td><td style = \"text-align: right;\">7.64</td><td style = \"text-align: right;\">3.017</td><td style = \"text-align: right;\">1.39</td><td style = \"text-align: right;\">2.868</td><td style = \"text-align: right;\">2.868</td><td style = \"text-align: right;\">2.91</td><td style = \"text-align: right;\">0.8395</td><td style = \"text-align: right;\">7.9</td><td style = \"text-align: right;\">2.19</td><td style = \"text-align: right;\">1.38</td><td style = \"text-align: right;\">1.4</td><td style = \"text-align: right;\">1.092</td></tr><tr><td class = \"rowNumber\" style = \"font-weight: bold; text-align: right;\">66</td><td style = \"text-align: right;\">286.93</td><td style = \"text-align: right;\">66.0</td><td style = \"text-align: right;\">10.66</td><td style = \"text-align: right;\">4.253</td><td style = \"text-align: right;\">1.41</td><td style = \"text-align: right;\">3.761</td><td style = \"text-align: right;\">3.761</td><td style = \"text-align: right;\">3.785</td><td style = \"text-align: right;\">1.098</td><td style = \"text-align: right;\">10.9</td><td style = \"text-align: right;\">3.07</td><td style = \"text-align: right;\">1.4</td><td style = \"text-align: right;\">1.39</td><td style = \"text-align: right;\">1.095</td></tr><tr><td class = \"rowNumber\" style = \"font-weight: bold; text-align: right;\">67</td><td style = \"text-align: right;\">285.955</td><td style = \"text-align: right;\">67.0</td><td style = \"text-align: right;\">14.91</td><td style = \"text-align: right;\">2.824</td><td style = \"text-align: right;\">0.664</td><td style = \"text-align: right;\">5.022</td><td style = \"text-align: right;\">5.022</td><td style = \"text-align: right;\">5.04</td><td style = \"text-align: right;\">1.425</td><td style = \"text-align: right;\">15.2</td><td style = \"text-align: right;\">4.3</td><td style = \"text-align: right;\">0.661</td><td style = \"text-align: right;\">0.645</td><td style = \"text-align: right;\">1.127</td></tr><tr><td class = \"rowNumber\" style = \"font-weight: bold; text-align: right;\">68</td><td style = \"text-align: right;\">285.435</td><td style = \"text-align: right;\">68.0</td><td style = \"text-align: right;\">17.73</td><td style = \"text-align: right;\">1.607</td><td style = \"text-align: right;\">0.569</td><td style = \"text-align: right;\">5.855</td><td style = \"text-align: right;\">5.855</td><td style = \"text-align: right;\">5.854</td><td style = \"text-align: right;\">1.618</td><td style = \"text-align: right;\">18.0</td><td style = \"text-align: right;\">5.09</td><td style = \"text-align: right;\">0.571</td><td style = \"text-align: right;\">0.557</td><td style = \"text-align: right;\">1.157</td></tr><tr><td class = \"rowNumber\" style = \"font-weight: bold; text-align: right;\">69</td><td style = \"text-align: right;\">285.171</td><td style = \"text-align: right;\">69.0</td><td style = \"text-align: right;\">19.34</td><td style = \"text-align: right;\">0.5672</td><td style = \"text-align: right;\">0.353</td><td style = \"text-align: right;\">6.325</td><td style = \"text-align: right;\">6.325</td><td style = \"text-align: right;\">6.361</td><td style = \"text-align: right;\">1.72</td><td style = \"text-align: right;\">19.7</td><td style = \"text-align: right;\">5.53</td><td style = \"text-align: right;\">0.353</td><td style = \"text-align: right;\">0.349</td><td style = \"text-align: right;\">1.176</td></tr><tr><td class = \"rowNumber\" style = \"font-weight: bold; text-align: right;\">70</td><td style = \"text-align: right;\">285.082</td><td style = \"text-align: right;\">70.0</td><td style = \"text-align: right;\">19.91</td><td style = \"text-align: right;\">0.0</td><td style = \"text-align: right;\">0.0</td><td style = \"text-align: right;\">6.49</td><td style = \"text-align: right;\">6.49</td><td style = \"text-align: right;\">6.49</td><td style = \"text-align: right;\">1.754</td><td style = \"text-align: right;\">20.2</td><td style = \"text-align: right;\">5.68</td><td style = \"text-align: right;\">0.0</td><td style = \"text-align: right;\">0.0</td><td style = \"text-align: right;\">1.183</td></tr></tbody></table></div>"
      ],
      "text/latex": [
       "\\begin{tabular}{r|cccccccc}\n",
       "\t& R & I & Tau(Ross) & /\\textbackslash{}Tau & Rat(Ross) Chi(Ross) & Chi(ross) & Chi(Flux) & \\\\\n",
       "\t\\hline\n",
       "\t& Float64 & Float64 & Float64 & Float64 & Float64 & Float64 & Float64 & \\\\\n",
       "\t\\hline\n",
       "\t1 & 1.27125e5 & 1.0 & 4.922e-7 & 5.351e-9 & 0.0 & 3.894e-12 & 3.894e-12 & $\\dots$ \\\\\n",
       "\t2 & 1.25766e5 & 2.0 & 4.975e-7 & 1.088e-8 & 2.03 & 3.978e-12 & 3.978e-12 & $\\dots$ \\\\\n",
       "\t3 & 1.23089e5 & 3.0 & 5.084e-7 & 2.246e-8 & 2.06 & 4.154e-12 & 4.154e-12 & $\\dots$ \\\\\n",
       "\t4 & 117911.0 & 4.0 & 5.309e-7 & 4.793e-8 & 2.13 & 4.528e-12 & 4.528e-12 & $\\dots$ \\\\\n",
       "\t5 & 1.082e5 & 5.0 & 5.788e-7 & 1.094e-7 & 2.28 & 5.38e-12 & 5.38e-12 & $\\dots$ \\\\\n",
       "\t6 & 91091.8 & 6.0 & 6.882e-7 & 2.739e-7 & 2.5 & 7.6e-12 & 7.6e-12 & $\\dots$ \\\\\n",
       "\t7 & 65261.4 & 7.0 & 9.62e-7 & 3.817e-7 & 1.39 & 1.485e-11 & 1.485e-11 & $\\dots$ \\\\\n",
       "\t8 & 46824.1 & 8.0 & 1.344e-6 & 5.329e-7 & 1.4 & 2.898e-11 & 2.898e-11 & $\\dots$ \\\\\n",
       "\t9 & 33628.7 & 9.0 & 1.877e-6 & 7.438e-7 & 1.4 & 5.651e-11 & 5.651e-11 & $\\dots$ \\\\\n",
       "\t10 & 24181.3 & 10.0 & 2.62e-6 & 1.038e-6 & 1.4 & 1.102e-10 & 1.102e-10 & $\\dots$ \\\\\n",
       "\t11 & 17415.3 & 11.0 & 3.658e-6 & 1.448e-6 & 1.4 & 2.146e-10 & 2.146e-10 & $\\dots$ \\\\\n",
       "\t12 & 12568.8 & 12.0 & 5.107e-6 & 2.019e-6 & 1.39 & 4.178e-10 & 4.178e-10 & $\\dots$ \\\\\n",
       "\t13 & 9097.09 & 13.0 & 7.126e-6 & 2.813e-6 & 1.39 & 8.13e-10 & 8.13e-10 & $\\dots$ \\\\\n",
       "\t14 & 6610.46 & 14.0 & 9.939e-6 & 3.918e-6 & 1.39 & 1.581e-9 & 1.581e-9 & $\\dots$ \\\\\n",
       "\t15 & 4828.65 & 15.0 & 1.386e-5 & 5.455e-6 & 1.39 & 3.071e-9 & 3.071e-9 & $\\dots$ \\\\\n",
       "\t16 & 3551.13 & 16.0 & 1.931e-5 & 7.601e-6 & 1.39 & 5.962e-9 & 5.962e-9 & $\\dots$ \\\\\n",
       "\t17 & 2633.88 & 17.0 & 2.691e-5 & 1.061e-5 & 1.4 & 1.157e-8 & 1.157e-8 & $\\dots$ \\\\\n",
       "\t18 & 1973.71 & 18.0 & 3.753e-5 & 1.489e-5 & 1.4 & 2.245e-8 & 2.245e-8 & $\\dots$ \\\\\n",
       "\t19 & 1497.33 & 19.0 & 5.242e-5 & 2.093e-5 & 1.41 & 4.374e-8 & 4.374e-8 & $\\dots$ \\\\\n",
       "\t20 & 1154.37 & 20.0 & 7.335e-5 & 2.937e-5 & 1.4 & 8.547e-8 & 8.547e-8 & $\\dots$ \\\\\n",
       "\t21 & 907.496 & 21.0 & 0.0001027 & 4.142e-5 & 1.41 & 1.662e-7 & 1.662e-7 & $\\dots$ \\\\\n",
       "\t22 & 728.618 & 22.0 & 0.0001441 & 5.821e-5 & 1.41 & 3.237e-7 & 3.237e-7 & $\\dots$ \\\\\n",
       "\t23 & 599.312 & 23.0 & 0.0002024 & 8.123e-5 & 1.4 & 6.283e-7 & 6.283e-7 & $\\dots$ \\\\\n",
       "\t24 & 506.086 & 24.0 & 0.0002836 & 0.0001137 & 1.4 & 1.212e-6 & 1.212e-6 & $\\dots$ \\\\\n",
       "\t$\\dots$ & $\\dots$ & $\\dots$ & $\\dots$ & $\\dots$ & $\\dots$ & $\\dots$ & $\\dots$ &  \\\\\n",
       "\\end{tabular}\n"
      ],
      "text/plain": [
       "\u001b[1m70×14 DataFrame\u001b[0m\n",
       "\u001b[1m Row \u001b[0m│\u001b[1m R              \u001b[0m\u001b[1m I       \u001b[0m\u001b[1m Tau(Ross) \u001b[0m\u001b[1m /\\\\Tau   \u001b[0m\u001b[1m Rat(Ross) Chi(Ross) \u001b[0m\u001b[1m Chi(\u001b[0m ⋯\n",
       "     │\u001b[90m Float64        \u001b[0m\u001b[90m Float64 \u001b[0m\u001b[90m Float64   \u001b[0m\u001b[90m Float64  \u001b[0m\u001b[90m Float64             \u001b[0m\u001b[90m Floa\u001b[0m ⋯\n",
       "─────┼──────────────────────────────────────────────────────────────────────────\n",
       "   1 │      1.27125e5      1.0   4.922e-7  5.351e-9                0.0    3.89 ⋯\n",
       "   2 │      1.25766e5      2.0   4.975e-7  1.088e-8                2.03   3.97\n",
       "   3 │      1.23089e5      3.0   5.084e-7  2.246e-8                2.06   4.15\n",
       "   4 │ 117911.0            4.0   5.309e-7  4.793e-8                2.13   4.52\n",
       "   5 │      1.082e5        5.0   5.788e-7  1.094e-7                2.28   5.38 ⋯\n",
       "   6 │  91091.8            6.0   6.882e-7  2.739e-7                2.5    7.6e\n",
       "   7 │  65261.4            7.0   9.62e-7   3.817e-7                1.39   1.48\n",
       "   8 │  46824.1            8.0   1.344e-6  5.329e-7                1.4    2.89\n",
       "  ⋮  │       ⋮            ⋮         ⋮         ⋮               ⋮                ⋱\n",
       "  64 │    288.701         64.0   5.475     2.164                   1.39   2.22 ⋯\n",
       "  65 │    287.846         65.0   7.64      3.017                   1.39   2.86\n",
       "  66 │    286.93          66.0  10.66      4.253                   1.41   3.76\n",
       "  67 │    285.955         67.0  14.91      2.824                   0.664  5.02\n",
       "  68 │    285.435         68.0  17.73      1.607                   0.569  5.85 ⋯\n",
       "  69 │    285.171         69.0  19.34      0.5672                  0.353  6.32\n",
       "  70 │    285.082         70.0  19.91      0.0                     0.0    6.49\n",
       "\u001b[36m                                                   9 columns and 55 rows omitted\u001b[0m"
      ]
     },
     "metadata": {},
     "output_type": "display_data"
    }
   ],
   "source": [
    "read__meanopac(modeldir*\"/MEANOPAC\")"
   ]
  },
  {
   "cell_type": "markdown",
   "id": "3bf9b282",
   "metadata": {},
   "source": [
    "### Reading RVTJ"
   ]
  },
  {
   "cell_type": "code",
   "execution_count": 11,
   "id": "625e59fa",
   "metadata": {},
   "outputs": [],
   "source": [
    "include(\"read__RVTJ.jl\")"
   ]
  },
  {
   "cell_type": "code",
   "execution_count": 12,
   "id": "b1aac726",
   "metadata": {},
   "outputs": [
    {
     "data": {
      "text/html": [
       "<div><div style = \"float: left;\"><span>70×16 DataFrame</span></div><div style = \"float: right;\"><span style = \"font-style: italic;\">45 rows omitted</span></div><div style = \"clear: both;\"></div></div><div class = \"data-frame\" style = \"overflow-x: scroll;\"><table class = \"data-frame\" style = \"margin-bottom: 6px;\"><thead><tr class = \"header\"><th class = \"rowNumber\" style = \"font-weight: bold; text-align: right;\">Row</th><th style = \"text-align: left;\">Radius</th><th style = \"text-align: left;\">Velocity</th><th style = \"text-align: left;\">dlnV_dlnr_1</th><th style = \"text-align: left;\">ElectronDensity</th><th style = \"text-align: left;\">Temperature</th><th style = \"text-align: left;\">GreyTemperature</th><th style = \"text-align: left;\">Heating</th><th style = \"text-align: left;\">RosselandMeanOpacity</th><th style = \"text-align: left;\">FluxMeanOpacity</th><th style = \"text-align: left;\">PlanckMeanOpacity</th><th style = \"text-align: left;\">AtomDensity</th><th style = \"text-align: left;\">IonDensity</th><th style = \"text-align: left;\">MassDensity</th><th style = \"text-align: left;\">Clumping</th><th style = \"text-align: left;\">HydrogenDensity</th><th style = \"text-align: left;\">HeliumDensity</th></tr><tr class = \"subheader headerLastRow\"><th class = \"rowNumber\" style = \"font-weight: bold; text-align: right;\"></th><th title = \"Float64\" style = \"text-align: left;\">Float64</th><th title = \"Float64\" style = \"text-align: left;\">Float64</th><th title = \"Float64\" style = \"text-align: left;\">Float64</th><th title = \"Float64\" style = \"text-align: left;\">Float64</th><th title = \"Float64\" style = \"text-align: left;\">Float64</th><th title = \"Float64\" style = \"text-align: left;\">Float64</th><th title = \"Float64\" style = \"text-align: left;\">Float64</th><th title = \"Float64\" style = \"text-align: left;\">Float64</th><th title = \"Float64\" style = \"text-align: left;\">Float64</th><th title = \"Float64\" style = \"text-align: left;\">Float64</th><th title = \"Float64\" style = \"text-align: left;\">Float64</th><th title = \"Float64\" style = \"text-align: left;\">Float64</th><th title = \"Float64\" style = \"text-align: left;\">Float64</th><th title = \"Float64\" style = \"text-align: left;\">Float64</th><th title = \"Float64\" style = \"text-align: left;\">Float64</th><th title = \"Float64\" style = \"text-align: left;\">Float64</th></tr></thead><tbody><tr><td class = \"rowNumber\" style = \"font-weight: bold; text-align: right;\">1</td><td style = \"text-align: right;\">1.27125e5</td><td style = \"text-align: right;\">258.836</td><td style = \"text-align: right;\">-0.99551</td><td style = \"text-align: right;\">577.742</td><td style = \"text-align: right;\">0.72313</td><td style = \"text-align: right;\">0.0458017</td><td style = \"text-align: right;\">0.0</td><td style = \"text-align: right;\">3.89358e-12</td><td style = \"text-align: right;\">1.57292e-10</td><td style = \"text-align: right;\">4.9477e-12</td><td style = \"text-align: right;\">576.733</td><td style = \"text-align: right;\">576.422</td><td style = \"text-align: right;\">1.19999e-21</td><td style = \"text-align: right;\">1.0</td><td style = \"text-align: right;\">528.981</td><td style = \"text-align: right;\">47.5144</td></tr><tr><td class = \"rowNumber\" style = \"font-weight: bold; text-align: right;\">2</td><td style = \"text-align: right;\">1.25766e5</td><td style = \"text-align: right;\">258.823</td><td style = \"text-align: right;\">-0.995459</td><td style = \"text-align: right;\">590.33</td><td style = \"text-align: right;\">0.723251</td><td style = \"text-align: right;\">0.0460486</td><td style = \"text-align: right;\">0.0</td><td style = \"text-align: right;\">3.97845e-12</td><td style = \"text-align: right;\">1.60701e-10</td><td style = \"text-align: right;\">5.06236e-12</td><td style = \"text-align: right;\">589.298</td><td style = \"text-align: right;\">588.981</td><td style = \"text-align: right;\">1.22614e-21</td><td style = \"text-align: right;\">1.0</td><td style = \"text-align: right;\">540.506</td><td style = \"text-align: right;\">48.5496</td></tr><tr><td class = \"rowNumber\" style = \"font-weight: bold; text-align: right;\">3</td><td style = \"text-align: right;\">1.23089e5</td><td style = \"text-align: right;\">258.798</td><td style = \"text-align: right;\">-0.995359</td><td style = \"text-align: right;\">616.346</td><td style = \"text-align: right;\">0.723502</td><td style = \"text-align: right;\">0.0465466</td><td style = \"text-align: right;\">0.0</td><td style = \"text-align: right;\">4.15386e-12</td><td style = \"text-align: right;\">1.67736e-10</td><td style = \"text-align: right;\">5.30027e-12</td><td style = \"text-align: right;\">615.267</td><td style = \"text-align: right;\">614.936</td><td style = \"text-align: right;\">1.28017e-21</td><td style = \"text-align: right;\">1.0</td><td style = \"text-align: right;\">564.325</td><td style = \"text-align: right;\">50.689</td></tr><tr><td class = \"rowNumber\" style = \"font-weight: bold; text-align: right;\">4</td><td style = \"text-align: right;\">117911.0</td><td style = \"text-align: right;\">258.745</td><td style = \"text-align: right;\">-0.995145</td><td style = \"text-align: right;\">671.81</td><td style = \"text-align: right;\">0.724033</td><td style = \"text-align: right;\">0.0475576</td><td style = \"text-align: right;\">0.0</td><td style = \"text-align: right;\">4.52784e-12</td><td style = \"text-align: right;\">1.82753e-10</td><td style = \"text-align: right;\">5.81162e-12</td><td style = \"text-align: right;\">670.629</td><td style = \"text-align: right;\">670.268</td><td style = \"text-align: right;\">1.39536e-21</td><td style = \"text-align: right;\">1.0</td><td style = \"text-align: right;\">615.103</td><td style = \"text-align: right;\">55.25</td></tr><tr><td class = \"rowNumber\" style = \"font-weight: bold; text-align: right;\">5</td><td style = \"text-align: right;\">1.082e5</td><td style = \"text-align: right;\">258.633</td><td style = \"text-align: right;\">-0.99465</td><td style = \"text-align: right;\">798.173</td><td style = \"text-align: right;\">0.725232</td><td style = \"text-align: right;\">0.0496459</td><td style = \"text-align: right;\">0.0</td><td style = \"text-align: right;\">5.37997e-12</td><td style = \"text-align: right;\">2.1701e-10</td><td style = \"text-align: right;\">6.99754e-12</td><td style = \"text-align: right;\">796.757</td><td style = \"text-align: right;\">796.33</td><td style = \"text-align: right;\">1.65779e-21</td><td style = \"text-align: right;\">1.0</td><td style = \"text-align: right;\">730.789</td><td style = \"text-align: right;\">65.6412</td></tr><tr><td class = \"rowNumber\" style = \"font-weight: bold; text-align: right;\">6</td><td style = \"text-align: right;\">91091.8</td><td style = \"text-align: right;\">258.377</td><td style = \"text-align: right;\">-0.993315</td><td style = \"text-align: right;\">1127.3</td><td style = \"text-align: right;\">0.728229</td><td style = \"text-align: right;\">0.0541057</td><td style = \"text-align: right;\">0.0</td><td style = \"text-align: right;\">7.60011e-12</td><td style = \"text-align: right;\">3.06442e-10</td><td style = \"text-align: right;\">1.02168e-11</td><td style = \"text-align: right;\">1125.25</td><td style = \"text-align: right;\">1124.65</td><td style = \"text-align: right;\">2.34129e-21</td><td style = \"text-align: right;\">1.0</td><td style = \"text-align: right;\">1032.09</td><td style = \"text-align: right;\">92.7046</td></tr><tr><td class = \"rowNumber\" style = \"font-weight: bold; text-align: right;\">7</td><td style = \"text-align: right;\">65261.4</td><td style = \"text-align: right;\">257.731</td><td style = \"text-align: right;\">-0.990223</td><td style = \"text-align: right;\">2201.87</td><td style = \"text-align: right;\">0.73569</td><td style = \"text-align: right;\">0.063887</td><td style = \"text-align: right;\">0.0</td><td style = \"text-align: right;\">1.48532e-11</td><td style = \"text-align: right;\">5.97496e-10</td><td style = \"text-align: right;\">2.16737e-11</td><td style = \"text-align: right;\">2197.78</td><td style = \"text-align: right;\">2196.61</td><td style = \"text-align: right;\">4.57286e-21</td><td style = \"text-align: right;\">1.0</td><td style = \"text-align: right;\">2015.81</td><td style = \"text-align: right;\">181.065</td></tr><tr><td class = \"rowNumber\" style = \"font-weight: bold; text-align: right;\">8</td><td style = \"text-align: right;\">46824.1</td><td style = \"text-align: right;\">256.84</td><td style = \"text-align: right;\">-0.986382</td><td style = \"text-align: right;\">4292.27</td><td style = \"text-align: right;\">0.746353</td><td style = \"text-align: right;\">0.0753658</td><td style = \"text-align: right;\">0.0</td><td style = \"text-align: right;\">2.8978e-11</td><td style = \"text-align: right;\">1.16201e-9</td><td style = \"text-align: right;\">4.7434e-11</td><td style = \"text-align: right;\">4284.13</td><td style = \"text-align: right;\">4281.86</td><td style = \"text-align: right;\">8.91387e-21</td><td style = \"text-align: right;\">1.0</td><td style = \"text-align: right;\">3929.41</td><td style = \"text-align: right;\">352.95</td></tr><tr><td class = \"rowNumber\" style = \"font-weight: bold; text-align: right;\">9</td><td style = \"text-align: right;\">33628.7</td><td style = \"text-align: right;\">255.605</td><td style = \"text-align: right;\">-0.981013</td><td style = \"text-align: right;\">8362.22</td><td style = \"text-align: right;\">0.75943</td><td style = \"text-align: right;\">0.0888645</td><td style = \"text-align: right;\">0.0</td><td style = \"text-align: right;\">5.65123e-11</td><td style = \"text-align: right;\">2.26147e-9</td><td style = \"text-align: right;\">1.06237e-10</td><td style = \"text-align: right;\">8345.92</td><td style = \"text-align: right;\">8341.53</td><td style = \"text-align: right;\">1.73651e-20</td><td style = \"text-align: right;\">1.0</td><td style = \"text-align: right;\">7654.91</td><td style = \"text-align: right;\">687.582</td></tr><tr><td class = \"rowNumber\" style = \"font-weight: bold; text-align: right;\">10</td><td style = \"text-align: right;\">24181.3</td><td style = \"text-align: right;\">253.899</td><td style = \"text-align: right;\">-0.97355</td><td style = \"text-align: right;\">16282.4</td><td style = \"text-align: right;\">0.773143</td><td style = \"text-align: right;\">0.104719</td><td style = \"text-align: right;\">0.0</td><td style = \"text-align: right;\">1.10152e-10</td><td style = \"text-align: right;\">4.39223e-9</td><td style = \"text-align: right;\">2.38506e-10</td><td style = \"text-align: right;\">16249.6</td><td style = \"text-align: right;\">16241.1</td><td style = \"text-align: right;\">3.38102e-20</td><td style = \"text-align: right;\">1.0</td><td style = \"text-align: right;\">14904.2</td><td style = \"text-align: right;\">1338.73</td></tr><tr><td class = \"rowNumber\" style = \"font-weight: bold; text-align: right;\">11</td><td style = \"text-align: right;\">17415.3</td><td style = \"text-align: right;\">251.549</td><td style = \"text-align: right;\">-0.963199</td><td style = \"text-align: right;\">31687.4</td><td style = \"text-align: right;\">0.786516</td><td style = \"text-align: right;\">0.123307</td><td style = \"text-align: right;\">0.0</td><td style = \"text-align: right;\">2.14589e-10</td><td style = \"text-align: right;\">8.52727e-9</td><td style = \"text-align: right;\">5.31888e-10</td><td style = \"text-align: right;\">31621.1</td><td style = \"text-align: right;\">31604.7</td><td style = \"text-align: right;\">6.57933e-20</td><td style = \"text-align: right;\">1.0</td><td style = \"text-align: right;\">29003.0</td><td style = \"text-align: right;\">2605.12</td></tr><tr><td class = \"rowNumber\" style = \"font-weight: bold; text-align: right;\">12</td><td style = \"text-align: right;\">12568.8</td><td style = \"text-align: right;\">248.333</td><td style = \"text-align: right;\">-0.948905</td><td style = \"text-align: right;\">61630.1</td><td style = \"text-align: right;\">0.800052</td><td style = \"text-align: right;\">0.145048</td><td style = \"text-align: right;\">0.0</td><td style = \"text-align: right;\">4.17813e-10</td><td style = \"text-align: right;\">1.65154e-8</td><td style = \"text-align: right;\">1.18356e-9</td><td style = \"text-align: right;\">61495.3</td><td style = \"text-align: right;\">61463.4</td><td style = \"text-align: right;\">1.27952e-19</td><td style = \"text-align: right;\">1.0</td><td style = \"text-align: right;\">56403.7</td><td style = \"text-align: right;\">5066.32</td></tr><tr><td class = \"rowNumber\" style = \"font-weight: bold; text-align: right;\">13</td><td style = \"text-align: right;\">9097.09</td><td style = \"text-align: right;\">243.968</td><td style = \"text-align: right;\">-0.929308</td><td style = \"text-align: right;\">1.19763e5</td><td style = \"text-align: right;\">0.815985</td><td style = \"text-align: right;\">0.170386</td><td style = \"text-align: right;\">0.0</td><td style = \"text-align: right;\">8.13036e-10</td><td style = \"text-align: right;\">3.19034e-8</td><td style = \"text-align: right;\">2.68458e-9</td><td style = \"text-align: right;\">1.19488e5</td><td style = \"text-align: right;\">1.19427e5</td><td style = \"text-align: right;\">2.48616e-19</td><td style = \"text-align: right;\">1.0</td><td style = \"text-align: right;\">1.09595e5</td><td style = \"text-align: right;\">9844.1</td></tr><tr><td style = \"text-align: right;\">&vellip;</td><td style = \"text-align: right;\">&vellip;</td><td style = \"text-align: right;\">&vellip;</td><td style = \"text-align: right;\">&vellip;</td><td style = \"text-align: right;\">&vellip;</td><td style = \"text-align: right;\">&vellip;</td><td style = \"text-align: right;\">&vellip;</td><td style = \"text-align: right;\">&vellip;</td><td style = \"text-align: right;\">&vellip;</td><td style = \"text-align: right;\">&vellip;</td><td style = \"text-align: right;\">&vellip;</td><td style = \"text-align: right;\">&vellip;</td><td style = \"text-align: right;\">&vellip;</td><td style = \"text-align: right;\">&vellip;</td><td style = \"text-align: right;\">&vellip;</td><td style = \"text-align: right;\">&vellip;</td><td style = \"text-align: right;\">&vellip;</td></tr><tr><td class = \"rowNumber\" style = \"font-weight: bold; text-align: right;\">59</td><td style = \"text-align: right;\">292.011</td><td style = \"text-align: right;\">0.000984956</td><td style = \"text-align: right;\">125.388</td><td style = \"text-align: right;\">2.75536e13</td><td style = \"text-align: right;\">1.4139</td><td style = \"text-align: right;\">1.43318</td><td style = \"text-align: right;\">0.0</td><td style = \"text-align: right;\">0.676518</td><td style = \"text-align: right;\">0.703932</td><td style = \"text-align: right;\">146.924</td><td style = \"text-align: right;\">2.87242e13</td><td style = \"text-align: right;\">2.75521e13</td><td style = \"text-align: right;\">5.97656e-11</td><td style = \"text-align: right;\">1.0</td><td style = \"text-align: right;\">2.63459e13</td><td style = \"text-align: right;\">2.36645e12</td></tr><tr><td class = \"rowNumber\" style = \"font-weight: bold; text-align: right;\">60</td><td style = \"text-align: right;\">291.475</td><td style = \"text-align: right;\">0.000791889</td><td style = \"text-align: right;\">115.91</td><td style = \"text-align: right;\">3.51114e13</td><td style = \"text-align: right;\">1.50448</td><td style = \"text-align: right;\">1.51445</td><td style = \"text-align: right;\">0.0</td><td style = \"text-align: right;\">0.850274</td><td style = \"text-align: right;\">0.884064</td><td style = \"text-align: right;\">166.273</td><td style = \"text-align: right;\">3.5859e13</td><td style = \"text-align: right;\">3.51093e13</td><td style = \"text-align: right;\">7.46108e-11</td><td style = \"text-align: right;\">1.0</td><td style = \"text-align: right;\">3.289e13</td><td style = \"text-align: right;\">2.95426e12</td></tr><tr><td class = \"rowNumber\" style = \"font-weight: bold; text-align: right;\">61</td><td style = \"text-align: right;\">290.877</td><td style = \"text-align: right;\">0.000630175</td><td style = \"text-align: right;\">109.232</td><td style = \"text-align: right;\">4.48575e13</td><td style = \"text-align: right;\">1.60788</td><td style = \"text-align: right;\">1.60934</td><td style = \"text-align: right;\">0.0</td><td style = \"text-align: right;\">1.06694</td><td style = \"text-align: right;\">1.10913</td><td style = \"text-align: right;\">194.549</td><td style = \"text-align: right;\">4.52462e13</td><td style = \"text-align: right;\">4.48542e13</td><td style = \"text-align: right;\">9.41425e-11</td><td style = \"text-align: right;\">1.0</td><td style = \"text-align: right;\">4.15e13</td><td style = \"text-align: right;\">3.72763e12</td></tr><tr><td class = \"rowNumber\" style = \"font-weight: bold; text-align: right;\">62</td><td style = \"text-align: right;\">290.216</td><td style = \"text-align: right;\">0.000495648</td><td style = \"text-align: right;\">103.279</td><td style = \"text-align: right;\">5.76052e13</td><td style = \"text-align: right;\">1.7248</td><td style = \"text-align: right;\">1.71882</td><td style = \"text-align: right;\">0.0</td><td style = \"text-align: right;\">1.35036</td><td style = \"text-align: right;\">1.40203</td><td style = \"text-align: right;\">239.98</td><td style = \"text-align: right;\">5.77893e13</td><td style = \"text-align: right;\">5.75996e13</td><td style = \"text-align: right;\">1.20241e-10</td><td style = \"text-align: right;\">1.0</td><td style = \"text-align: right;\">5.30045e13</td><td style = \"text-align: right;\">4.761e12</td></tr><tr><td class = \"rowNumber\" style = \"font-weight: bold; text-align: right;\">63</td><td style = \"text-align: right;\">289.49</td><td style = \"text-align: right;\">0.000386513</td><td style = \"text-align: right;\">97.246</td><td style = \"text-align: right;\">7.43959e13</td><td style = \"text-align: right;\">1.85558</td><td style = \"text-align: right;\">1.84376</td><td style = \"text-align: right;\">0.0</td><td style = \"text-align: right;\">1.72728</td><td style = \"text-align: right;\">1.78555</td><td style = \"text-align: right;\">310.471</td><td style = \"text-align: right;\">7.44787e13</td><td style = \"text-align: right;\">7.43855e13</td><td style = \"text-align: right;\">1.54966e-10</td><td style = \"text-align: right;\">1.0</td><td style = \"text-align: right;\">6.83121e13</td><td style = \"text-align: right;\">6.13596e12</td></tr><tr><td class = \"rowNumber\" style = \"font-weight: bold; text-align: right;\">64</td><td style = \"text-align: right;\">288.701</td><td style = \"text-align: right;\">0.000299455</td><td style = \"text-align: right;\">91.4993</td><td style = \"text-align: right;\">9.66288e13</td><td style = \"text-align: right;\">2.00017</td><td style = \"text-align: right;\">1.98485</td><td style = \"text-align: right;\">0.0</td><td style = \"text-align: right;\">2.21966</td><td style = \"text-align: right;\">2.27853</td><td style = \"text-align: right;\">408.846</td><td style = \"text-align: right;\">9.66576e13</td><td style = \"text-align: right;\">9.66083e13</td><td style = \"text-align: right;\">2.01113e-10</td><td style = \"text-align: right;\">1.0</td><td style = \"text-align: right;\">8.86547e13</td><td style = \"text-align: right;\">7.96317e12</td></tr><tr><td class = \"rowNumber\" style = \"font-weight: bold; text-align: right;\">65</td><td style = \"text-align: right;\">287.846</td><td style = \"text-align: right;\">0.000230674</td><td style = \"text-align: right;\">85.8722</td><td style = \"text-align: right;\">1.26234e14</td><td style = \"text-align: right;\">2.15878</td><td style = \"text-align: right;\">2.14271</td><td style = \"text-align: right;\">0.0</td><td style = \"text-align: right;\">2.86817</td><td style = \"text-align: right;\">2.91019</td><td style = \"text-align: right;\">540.083</td><td style = \"text-align: right;\">1.26225e14</td><td style = \"text-align: right;\">1.26196e14</td><td style = \"text-align: right;\">2.62633e-10</td><td style = \"text-align: right;\">1.0</td><td style = \"text-align: right;\">1.15774e14</td><td style = \"text-align: right;\">1.03991e13</td></tr><tr><td class = \"rowNumber\" style = \"font-weight: bold; text-align: right;\">66</td><td style = \"text-align: right;\">286.93</td><td style = \"text-align: right;\">0.00017756</td><td style = \"text-align: right;\">79.2786</td><td style = \"text-align: right;\">1.65075e14</td><td style = \"text-align: right;\">2.33274</td><td style = \"text-align: right;\">2.31809</td><td style = \"text-align: right;\">0.0</td><td style = \"text-align: right;\">3.76066</td><td style = \"text-align: right;\">3.78493</td><td style = \"text-align: right;\">733.346</td><td style = \"text-align: right;\">1.65032e14</td><td style = \"text-align: right;\">1.65012e14</td><td style = \"text-align: right;\">3.43377e-10</td><td style = \"text-align: right;\">1.0</td><td style = \"text-align: right;\">1.51368e14</td><td style = \"text-align: right;\">1.35962e13</td></tr><tr><td class = \"rowNumber\" style = \"font-weight: bold; text-align: right;\">67</td><td style = \"text-align: right;\">285.955</td><td style = \"text-align: right;\">0.000137758</td><td style = \"text-align: right;\">70.0737</td><td style = \"text-align: right;\">2.14251e14</td><td style = \"text-align: right;\">2.52576</td><td style = \"text-align: right;\">2.51385</td><td style = \"text-align: right;\">0.0</td><td style = \"text-align: right;\">5.02243</td><td style = \"text-align: right;\">5.03975</td><td style = \"text-align: right;\">1031.36</td><td style = \"text-align: right;\">2.14166e14</td><td style = \"text-align: right;\">2.14151e14</td><td style = \"text-align: right;\">4.4561e-10</td><td style = \"text-align: right;\">1.0</td><td style = \"text-align: right;\">1.96434e14</td><td style = \"text-align: right;\">1.76442e13</td></tr><tr><td class = \"rowNumber\" style = \"font-weight: bold; text-align: right;\">68</td><td style = \"text-align: right;\">285.435</td><td style = \"text-align: right;\">0.000121772</td><td style = \"text-align: right;\">64.4432</td><td style = \"text-align: right;\">2.43288e14</td><td style = \"text-align: right;\">2.63354</td><td style = \"text-align: right;\">2.62276</td><td style = \"text-align: right;\">0.0</td><td style = \"text-align: right;\">5.85538</td><td style = \"text-align: right;\">5.8541</td><td style = \"text-align: right;\">1235.93</td><td style = \"text-align: right;\">2.43165e14</td><td style = \"text-align: right;\">2.43151e14</td><td style = \"text-align: right;\">5.05946e-10</td><td style = \"text-align: right;\">1.0</td><td style = \"text-align: right;\">2.23032e14</td><td style = \"text-align: right;\">2.00332e13</td></tr><tr><td class = \"rowNumber\" style = \"font-weight: bold; text-align: right;\">69</td><td style = \"text-align: right;\">285.171</td><td style = \"text-align: right;\">0.00011478</td><td style = \"text-align: right;\">61.5547</td><td style = \"text-align: right;\">2.58612e14</td><td style = \"text-align: right;\">2.68944</td><td style = \"text-align: right;\">2.67926</td><td style = \"text-align: right;\">0.0</td><td style = \"text-align: right;\">6.3254</td><td style = \"text-align: right;\">6.36096</td><td style = \"text-align: right;\">1352.55</td><td style = \"text-align: right;\">2.58457e14</td><td style = \"text-align: right;\">2.58444e14</td><td style = \"text-align: right;\">5.37766e-10</td><td style = \"text-align: right;\">1.0</td><td style = \"text-align: right;\">2.37058e14</td><td style = \"text-align: right;\">2.12931e13</td></tr><tr><td class = \"rowNumber\" style = \"font-weight: bold; text-align: right;\">70</td><td style = \"text-align: right;\">285.082</td><td style = \"text-align: right;\">0.00011259</td><td style = \"text-align: right;\">60.5161</td><td style = \"text-align: right;\">2.63817e14</td><td style = \"text-align: right;\">2.70851</td><td style = \"text-align: right;\">2.69835</td><td style = \"text-align: right;\">0.0</td><td style = \"text-align: right;\">6.4896</td><td style = \"text-align: right;\">6.48966</td><td style = \"text-align: right;\">1393.49</td><td style = \"text-align: right;\">2.63648e14</td><td style = \"text-align: right;\">2.63634e14</td><td style = \"text-align: right;\">5.48565e-10</td><td style = \"text-align: right;\">1.0</td><td style = \"text-align: right;\">2.41819e14</td><td style = \"text-align: right;\">2.17207e13</td></tr></tbody></table></div>"
      ],
      "text/latex": [
       "\\begin{tabular}{r|ccccccc}\n",
       "\t& Radius & Velocity & dlnV\\_dlnr\\_1 & ElectronDensity & Temperature & GreyTemperature & \\\\\n",
       "\t\\hline\n",
       "\t& Float64 & Float64 & Float64 & Float64 & Float64 & Float64 & \\\\\n",
       "\t\\hline\n",
       "\t1 & 1.27125e5 & 258.836 & -0.99551 & 577.742 & 0.72313 & 0.0458017 & $\\dots$ \\\\\n",
       "\t2 & 1.25766e5 & 258.823 & -0.995459 & 590.33 & 0.723251 & 0.0460486 & $\\dots$ \\\\\n",
       "\t3 & 1.23089e5 & 258.798 & -0.995359 & 616.346 & 0.723502 & 0.0465466 & $\\dots$ \\\\\n",
       "\t4 & 117911.0 & 258.745 & -0.995145 & 671.81 & 0.724033 & 0.0475576 & $\\dots$ \\\\\n",
       "\t5 & 1.082e5 & 258.633 & -0.99465 & 798.173 & 0.725232 & 0.0496459 & $\\dots$ \\\\\n",
       "\t6 & 91091.8 & 258.377 & -0.993315 & 1127.3 & 0.728229 & 0.0541057 & $\\dots$ \\\\\n",
       "\t7 & 65261.4 & 257.731 & -0.990223 & 2201.87 & 0.73569 & 0.063887 & $\\dots$ \\\\\n",
       "\t8 & 46824.1 & 256.84 & -0.986382 & 4292.27 & 0.746353 & 0.0753658 & $\\dots$ \\\\\n",
       "\t9 & 33628.7 & 255.605 & -0.981013 & 8362.22 & 0.75943 & 0.0888645 & $\\dots$ \\\\\n",
       "\t10 & 24181.3 & 253.899 & -0.97355 & 16282.4 & 0.773143 & 0.104719 & $\\dots$ \\\\\n",
       "\t11 & 17415.3 & 251.549 & -0.963199 & 31687.4 & 0.786516 & 0.123307 & $\\dots$ \\\\\n",
       "\t12 & 12568.8 & 248.333 & -0.948905 & 61630.1 & 0.800052 & 0.145048 & $\\dots$ \\\\\n",
       "\t13 & 9097.09 & 243.968 & -0.929308 & 1.19763e5 & 0.815985 & 0.170386 & $\\dots$ \\\\\n",
       "\t14 & 6610.46 & 238.117 & -0.90238 & 232412.0 & 0.837011 & 0.199766 & $\\dots$ \\\\\n",
       "\t15 & 4828.65 & 230.366 & -0.865363 & 4.50289e5 & 0.865732 & 0.233626 & $\\dots$ \\\\\n",
       "\t16 & 3551.13 & 220.261 & -0.814466 & 8.7082e5 & 0.902657 & 0.27234 & $\\dots$ \\\\\n",
       "\t17 & 2633.88 & 207.336 & -0.743962 & 1.68166e6 & 0.94522 & 0.316191 & $\\dots$ \\\\\n",
       "\t18 & 1973.71 & 191.149 & -0.643609 & 3.248e6 & 0.989309 & 0.36534 & $\\dots$ \\\\\n",
       "\t19 & 1497.33 & 171.27 & -0.505427 & 6.29664e6 & 1.03359 & 0.419737 & $\\dots$ \\\\\n",
       "\t20 & 1154.37 & 148.203 & -0.333595 & 1.22371e7 & 1.07808 & 0.478698 & $\\dots$ \\\\\n",
       "\t21 & 907.496 & 123.83 & -0.0993515 & 2.36823e7 & 1.11401 & 0.541151 & $\\dots$ \\\\\n",
       "\t22 & 728.618 & 98.7146 & 0.224187 & 4.60465e7 & 1.11607 & 0.606108 & $\\dots$ \\\\\n",
       "\t23 & 599.312 & 74.8898 & 0.639408 & 8.96293e7 & 1.08154 & 0.671766 & $\\dots$ \\\\\n",
       "\t24 & 506.086 & 54.4064 & 1.15593 & 1.7286e8 & 1.07496 & 0.736152 & $\\dots$ \\\\\n",
       "\t$\\dots$ & $\\dots$ & $\\dots$ & $\\dots$ & $\\dots$ & $\\dots$ & $\\dots$ &  \\\\\n",
       "\\end{tabular}\n"
      ],
      "text/plain": [
       "\u001b[1m70×16 DataFrame\u001b[0m\n",
       "\u001b[1m Row \u001b[0m│\u001b[1m Radius         \u001b[0m\u001b[1m Velocity      \u001b[0m\u001b[1m dlnV_dlnr_1 \u001b[0m\u001b[1m ElectronDensity \u001b[0m\u001b[1m Temperatur\u001b[0m ⋯\n",
       "     │\u001b[90m Float64        \u001b[0m\u001b[90m Float64       \u001b[0m\u001b[90m Float64     \u001b[0m\u001b[90m Float64         \u001b[0m\u001b[90m Float64   \u001b[0m ⋯\n",
       "─────┼──────────────────────────────────────────────────────────────────────────\n",
       "   1 │      1.27125e5  258.836          -0.99551      577.742          0.72313 ⋯\n",
       "   2 │      1.25766e5  258.823          -0.995459     590.33           0.72325\n",
       "   3 │      1.23089e5  258.798          -0.995359     616.346          0.72350\n",
       "   4 │ 117911.0        258.745          -0.995145     671.81           0.72403\n",
       "   5 │      1.082e5    258.633          -0.99465      798.173          0.72523 ⋯\n",
       "   6 │  91091.8        258.377          -0.993315    1127.3            0.72822\n",
       "   7 │  65261.4        257.731          -0.990223    2201.87           0.73569\n",
       "   8 │  46824.1        256.84           -0.986382    4292.27           0.74635\n",
       "  ⋮  │       ⋮               ⋮             ⋮              ⋮              ⋮     ⋱\n",
       "  64 │    288.701        0.000299455    91.4993         9.66288e13     2.00017 ⋯\n",
       "  65 │    287.846        0.000230674    85.8722         1.26234e14     2.15878\n",
       "  66 │    286.93         0.00017756     79.2786         1.65075e14     2.33274\n",
       "  67 │    285.955        0.000137758    70.0737         2.14251e14     2.52576\n",
       "  68 │    285.435        0.000121772    64.4432         2.43288e14     2.63354 ⋯\n",
       "  69 │    285.171        0.00011478     61.5547         2.58612e14     2.68944\n",
       "  70 │    285.082        0.00011259     60.5161         2.63817e14     2.70851\n",
       "\u001b[36m                                                  12 columns and 55 rows omitted\u001b[0m"
      ]
     },
     "metadata": {},
     "output_type": "display_data"
    }
   ],
   "source": [
    "read__rvtj(modeldir * \"/RVTJ\")"
   ]
  },
  {
   "cell_type": "markdown",
   "id": "1b5fea0c",
   "metadata": {},
   "source": [
    "### Reading RVSIG_COL"
   ]
  },
  {
   "cell_type": "code",
   "execution_count": 13,
   "id": "02840a55",
   "metadata": {},
   "outputs": [],
   "source": [
    "include(\"read__RVSIG_COL.jl\")"
   ]
  },
  {
   "cell_type": "code",
   "execution_count": 14,
   "id": "04e163a5",
   "metadata": {},
   "outputs": [
    {
     "data": {
      "text/html": [
       "<div><div style = \"float: left;\"><span>70×5 DataFrame</span></div><div style = \"float: right;\"><span style = \"font-style: italic;\">45 rows omitted</span></div><div style = \"clear: both;\"></div></div><div class = \"data-frame\" style = \"overflow-x: scroll;\"><table class = \"data-frame\" style = \"margin-bottom: 6px;\"><thead><tr class = \"header\"><th class = \"rowNumber\" style = \"font-weight: bold; text-align: right;\">Row</th><th style = \"text-align: left;\">R(10^10cm)</th><th style = \"text-align: left;\">V(km/s)</th><th style = \"text-align: left;\">Sigma</th><th style = \"text-align: left;\">Tau</th><th style = \"text-align: left;\">Index</th></tr><tr class = \"subheader headerLastRow\"><th class = \"rowNumber\" style = \"font-weight: bold; text-align: right;\"></th><th title = \"Float64\" style = \"text-align: left;\">Float64</th><th title = \"Float64\" style = \"text-align: left;\">Float64</th><th title = \"Float64\" style = \"text-align: left;\">Float64</th><th title = \"Float64\" style = \"text-align: left;\">Float64</th><th title = \"Float64\" style = \"text-align: left;\">Float64</th></tr></thead><tbody><tr><td class = \"rowNumber\" style = \"font-weight: bold; text-align: right;\">1</td><td style = \"text-align: right;\">1.27125e5</td><td style = \"text-align: right;\">258.836</td><td style = \"text-align: right;\">-0.99551</td><td style = \"text-align: right;\">5.11322e-7</td><td style = \"text-align: right;\">1.0</td></tr><tr><td class = \"rowNumber\" style = \"font-weight: bold; text-align: right;\">2</td><td style = \"text-align: right;\">1.25766e5</td><td style = \"text-align: right;\">258.823</td><td style = \"text-align: right;\">-0.995459</td><td style = \"text-align: right;\">5.1685e-7</td><td style = \"text-align: right;\">2.0</td></tr><tr><td class = \"rowNumber\" style = \"font-weight: bold; text-align: right;\">3</td><td style = \"text-align: right;\">1.23089e5</td><td style = \"text-align: right;\">258.798</td><td style = \"text-align: right;\">-0.995359</td><td style = \"text-align: right;\">5.28091e-7</td><td style = \"text-align: right;\">3.0</td></tr><tr><td class = \"rowNumber\" style = \"font-weight: bold; text-align: right;\">4</td><td style = \"text-align: right;\">117911.0</td><td style = \"text-align: right;\">258.745</td><td style = \"text-align: right;\">-0.995145</td><td style = \"text-align: right;\">5.5129e-7</td><td style = \"text-align: right;\">4.0</td></tr><tr><td class = \"rowNumber\" style = \"font-weight: bold; text-align: right;\">5</td><td style = \"text-align: right;\">1.082e5</td><td style = \"text-align: right;\">258.633</td><td style = \"text-align: right;\">-0.99465</td><td style = \"text-align: right;\">6.00801e-7</td><td style = \"text-align: right;\">5.0</td></tr><tr><td class = \"rowNumber\" style = \"font-weight: bold; text-align: right;\">6</td><td style = \"text-align: right;\">91091.8</td><td style = \"text-align: right;\">258.377</td><td style = \"text-align: right;\">-0.993315</td><td style = \"text-align: right;\">7.13608e-7</td><td style = \"text-align: right;\">6.0</td></tr><tr><td class = \"rowNumber\" style = \"font-weight: bold; text-align: right;\">7</td><td style = \"text-align: right;\">65261.4</td><td style = \"text-align: right;\">257.731</td><td style = \"text-align: right;\">-0.990223</td><td style = \"text-align: right;\">9.9592e-7</td><td style = \"text-align: right;\">7.0</td></tr><tr><td class = \"rowNumber\" style = \"font-weight: bold; text-align: right;\">8</td><td style = \"text-align: right;\">46824.1</td><td style = \"text-align: right;\">256.84</td><td style = \"text-align: right;\">-0.986382</td><td style = \"text-align: right;\">1.38992e-6</td><td style = \"text-align: right;\">8.0</td></tr><tr><td class = \"rowNumber\" style = \"font-weight: bold; text-align: right;\">9</td><td style = \"text-align: right;\">33628.7</td><td style = \"text-align: right;\">255.605</td><td style = \"text-align: right;\">-0.981013</td><td style = \"text-align: right;\">1.93979e-6</td><td style = \"text-align: right;\">9.0</td></tr><tr><td class = \"rowNumber\" style = \"font-weight: bold; text-align: right;\">10</td><td style = \"text-align: right;\">24181.3</td><td style = \"text-align: right;\">253.899</td><td style = \"text-align: right;\">-0.97355</td><td style = \"text-align: right;\">2.70719e-6</td><td style = \"text-align: right;\">10.0</td></tr><tr><td class = \"rowNumber\" style = \"font-weight: bold; text-align: right;\">11</td><td style = \"text-align: right;\">17415.3</td><td style = \"text-align: right;\">251.549</td><td style = \"text-align: right;\">-0.963199</td><td style = \"text-align: right;\">3.77819e-6</td><td style = \"text-align: right;\">11.0</td></tr><tr><td class = \"rowNumber\" style = \"font-weight: bold; text-align: right;\">12</td><td style = \"text-align: right;\">12568.8</td><td style = \"text-align: right;\">248.333</td><td style = \"text-align: right;\">-0.948905</td><td style = \"text-align: right;\">5.27289e-6</td><td style = \"text-align: right;\">12.0</td></tr><tr><td class = \"rowNumber\" style = \"font-weight: bold; text-align: right;\">13</td><td style = \"text-align: right;\">9097.09</td><td style = \"text-align: right;\">243.968</td><td style = \"text-align: right;\">-0.929308</td><td style = \"text-align: right;\">7.35891e-6</td><td style = \"text-align: right;\">13.0</td></tr><tr><td style = \"text-align: right;\">&vellip;</td><td style = \"text-align: right;\">&vellip;</td><td style = \"text-align: right;\">&vellip;</td><td style = \"text-align: right;\">&vellip;</td><td style = \"text-align: right;\">&vellip;</td><td style = \"text-align: right;\">&vellip;</td></tr><tr><td class = \"rowNumber\" style = \"font-weight: bold; text-align: right;\">59</td><td style = \"text-align: right;\">292.011</td><td style = \"text-align: right;\">0.000984956</td><td style = \"text-align: right;\">125.388</td><td style = \"text-align: right;\">1.03741</td><td style = \"text-align: right;\">59.0</td></tr><tr><td class = \"rowNumber\" style = \"font-weight: bold; text-align: right;\">60</td><td style = \"text-align: right;\">291.475</td><td style = \"text-align: right;\">0.000791889</td><td style = \"text-align: right;\">115.91</td><td style = \"text-align: right;\">1.44782</td><td style = \"text-align: right;\">60.0</td></tr><tr><td class = \"rowNumber\" style = \"font-weight: bold; text-align: right;\">61</td><td style = \"text-align: right;\">290.877</td><td style = \"text-align: right;\">0.000630175</td><td style = \"text-align: right;\">109.232</td><td style = \"text-align: right;\">2.0206</td><td style = \"text-align: right;\">61.0</td></tr><tr><td class = \"rowNumber\" style = \"font-weight: bold; text-align: right;\">62</td><td style = \"text-align: right;\">290.216</td><td style = \"text-align: right;\">0.000495648</td><td style = \"text-align: right;\">103.279</td><td style = \"text-align: right;\">2.81997</td><td style = \"text-align: right;\">62.0</td></tr><tr><td class = \"rowNumber\" style = \"font-weight: bold; text-align: right;\">63</td><td style = \"text-align: right;\">289.49</td><td style = \"text-align: right;\">0.000386513</td><td style = \"text-align: right;\">97.246</td><td style = \"text-align: right;\">3.93559</td><td style = \"text-align: right;\">63.0</td></tr><tr><td class = \"rowNumber\" style = \"font-weight: bold; text-align: right;\">64</td><td style = \"text-align: right;\">288.701</td><td style = \"text-align: right;\">0.000299455</td><td style = \"text-align: right;\">91.4993</td><td style = \"text-align: right;\">5.49256</td><td style = \"text-align: right;\">64.0</td></tr><tr><td class = \"rowNumber\" style = \"font-weight: bold; text-align: right;\">65</td><td style = \"text-align: right;\">287.846</td><td style = \"text-align: right;\">0.000230674</td><td style = \"text-align: right;\">85.8722</td><td style = \"text-align: right;\">7.66548</td><td style = \"text-align: right;\">65.0</td></tr><tr><td class = \"rowNumber\" style = \"font-weight: bold; text-align: right;\">66</td><td style = \"text-align: right;\">286.93</td><td style = \"text-align: right;\">0.00017756</td><td style = \"text-align: right;\">79.2786</td><td style = \"text-align: right;\">10.698</td><td style = \"text-align: right;\">66.0</td></tr><tr><td class = \"rowNumber\" style = \"font-weight: bold; text-align: right;\">67</td><td style = \"text-align: right;\">285.955</td><td style = \"text-align: right;\">0.000137758</td><td style = \"text-align: right;\">70.0737</td><td style = \"text-align: right;\">14.9757</td><td style = \"text-align: right;\">67.0</td></tr><tr><td class = \"rowNumber\" style = \"font-weight: bold; text-align: right;\">68</td><td style = \"text-align: right;\">285.435</td><td style = \"text-align: right;\">0.000121772</td><td style = \"text-align: right;\">64.4432</td><td style = \"text-align: right;\">17.8145</td><td style = \"text-align: right;\">68.0</td></tr><tr><td class = \"rowNumber\" style = \"font-weight: bold; text-align: right;\">69</td><td style = \"text-align: right;\">285.171</td><td style = \"text-align: right;\">0.00011478</td><td style = \"text-align: right;\">61.5547</td><td style = \"text-align: right;\">19.4297</td><td style = \"text-align: right;\">69.0</td></tr><tr><td class = \"rowNumber\" style = \"font-weight: bold; text-align: right;\">70</td><td style = \"text-align: right;\">285.082</td><td style = \"text-align: right;\">0.00011259</td><td style = \"text-align: right;\">60.5161</td><td style = \"text-align: right;\">20.0</td><td style = \"text-align: right;\">70.0</td></tr></tbody></table></div>"
      ],
      "text/latex": [
       "\\begin{tabular}{r|ccccc}\n",
       "\t& R(10\\^10cm) & V(km/s) & Sigma & Tau & Index\\\\\n",
       "\t\\hline\n",
       "\t& Float64 & Float64 & Float64 & Float64 & Float64\\\\\n",
       "\t\\hline\n",
       "\t1 & 1.27125e5 & 258.836 & -0.99551 & 5.11322e-7 & 1.0 \\\\\n",
       "\t2 & 1.25766e5 & 258.823 & -0.995459 & 5.1685e-7 & 2.0 \\\\\n",
       "\t3 & 1.23089e5 & 258.798 & -0.995359 & 5.28091e-7 & 3.0 \\\\\n",
       "\t4 & 117911.0 & 258.745 & -0.995145 & 5.5129e-7 & 4.0 \\\\\n",
       "\t5 & 1.082e5 & 258.633 & -0.99465 & 6.00801e-7 & 5.0 \\\\\n",
       "\t6 & 91091.8 & 258.377 & -0.993315 & 7.13608e-7 & 6.0 \\\\\n",
       "\t7 & 65261.4 & 257.731 & -0.990223 & 9.9592e-7 & 7.0 \\\\\n",
       "\t8 & 46824.1 & 256.84 & -0.986382 & 1.38992e-6 & 8.0 \\\\\n",
       "\t9 & 33628.7 & 255.605 & -0.981013 & 1.93979e-6 & 9.0 \\\\\n",
       "\t10 & 24181.3 & 253.899 & -0.97355 & 2.70719e-6 & 10.0 \\\\\n",
       "\t11 & 17415.3 & 251.549 & -0.963199 & 3.77819e-6 & 11.0 \\\\\n",
       "\t12 & 12568.8 & 248.333 & -0.948905 & 5.27289e-6 & 12.0 \\\\\n",
       "\t13 & 9097.09 & 243.968 & -0.929308 & 7.35891e-6 & 13.0 \\\\\n",
       "\t14 & 6610.46 & 238.117 & -0.90238 & 1.02702e-5 & 14.0 \\\\\n",
       "\t15 & 4828.65 & 230.366 & -0.865363 & 1.43332e-5 & 15.0 \\\\\n",
       "\t16 & 3551.13 & 220.261 & -0.814466 & 2.00036e-5 & 16.0 \\\\\n",
       "\t17 & 2633.88 & 207.336 & -0.743962 & 2.79173e-5 & 17.0 \\\\\n",
       "\t18 & 1973.71 & 191.149 & -0.643609 & 3.89617e-5 & 18.0 \\\\\n",
       "\t19 & 1497.33 & 171.27 & -0.505427 & 5.43754e-5 & 19.0 \\\\\n",
       "\t20 & 1154.37 & 148.203 & -0.333595 & 7.58869e-5 & 20.0 \\\\\n",
       "\t21 & 907.496 & 123.83 & -0.0993515 & 0.000105909 & 21.0 \\\\\n",
       "\t22 & 728.618 & 98.7146 & 0.224187 & 0.000147808 & 22.0 \\\\\n",
       "\t23 & 599.312 & 74.8898 & 0.639408 & 0.000206282 & 23.0 \\\\\n",
       "\t24 & 506.086 & 54.4064 & 1.15593 & 0.00028789 & 24.0 \\\\\n",
       "\t$\\dots$ & $\\dots$ & $\\dots$ & $\\dots$ & $\\dots$ & $\\dots$ \\\\\n",
       "\\end{tabular}\n"
      ],
      "text/plain": [
       "\u001b[1m70×5 DataFrame\u001b[0m\n",
       "\u001b[1m Row \u001b[0m│\u001b[1m R(10^10cm)     \u001b[0m\u001b[1m V(km/s)       \u001b[0m\u001b[1m Sigma      \u001b[0m\u001b[1m Tau         \u001b[0m\u001b[1m Index   \u001b[0m\n",
       "     │\u001b[90m Float64        \u001b[0m\u001b[90m Float64       \u001b[0m\u001b[90m Float64    \u001b[0m\u001b[90m Float64     \u001b[0m\u001b[90m Float64 \u001b[0m\n",
       "─────┼─────────────────────────────────────────────────────────────────\n",
       "   1 │      1.27125e5  258.836         -0.99551    5.11322e-7      1.0\n",
       "   2 │      1.25766e5  258.823         -0.995459   5.1685e-7       2.0\n",
       "   3 │      1.23089e5  258.798         -0.995359   5.28091e-7      3.0\n",
       "   4 │ 117911.0        258.745         -0.995145   5.5129e-7       4.0\n",
       "   5 │      1.082e5    258.633         -0.99465    6.00801e-7      5.0\n",
       "   6 │  91091.8        258.377         -0.993315   7.13608e-7      6.0\n",
       "   7 │  65261.4        257.731         -0.990223   9.9592e-7       7.0\n",
       "   8 │  46824.1        256.84          -0.986382   1.38992e-6      8.0\n",
       "  ⋮  │       ⋮               ⋮            ⋮            ⋮          ⋮\n",
       "  64 │    288.701        0.000299455   91.4993     5.49256        64.0\n",
       "  65 │    287.846        0.000230674   85.8722     7.66548        65.0\n",
       "  66 │    286.93         0.00017756    79.2786    10.698          66.0\n",
       "  67 │    285.955        0.000137758   70.0737    14.9757         67.0\n",
       "  68 │    285.435        0.000121772   64.4432    17.8145         68.0\n",
       "  69 │    285.171        0.00011478    61.5547    19.4297         69.0\n",
       "  70 │    285.082        0.00011259    60.5161    20.0            70.0\n",
       "\u001b[36m                                                        55 rows omitted\u001b[0m"
      ]
     },
     "metadata": {},
     "output_type": "display_data"
    }
   ],
   "source": [
    "read__rvsig_col(modeldir * \"/RVSIG_COL\")"
   ]
  },
  {
   "cell_type": "code",
   "execution_count": 15,
   "id": "19b6ea3c",
   "metadata": {},
   "outputs": [],
   "source": []
  }
 ],
 "metadata": {
  "kernelspec": {
   "display_name": "Julia 1.11.3",
   "language": "julia",
   "name": "julia-1.11"
  },
  "language_info": {
   "file_extension": ".jl",
   "mimetype": "application/julia",
   "name": "julia",
   "version": "1.11.3"
  }
 },
 "nbformat": 4,
 "nbformat_minor": 5
}
